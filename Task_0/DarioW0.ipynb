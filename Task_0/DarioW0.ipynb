{
 "cells": [
  {
   "cell_type": "markdown",
   "source": [
    "# Week 1 Hand-In\n",
    "\n",
    "Learning based on linear regression (I think)"
   ],
   "metadata": {
    "collapsed": false
   }
  },
  {
   "cell_type": "code",
   "execution_count": 239,
   "outputs": [],
   "source": [
    "import numpy as np\n",
    "from sklearn.metrics import mean_squared_error\n",
    "from sklearn import svm\n",
    "import sklearn\n",
    "from sklearn import neighbors\n",
    "import pandas as pd"
   ],
   "metadata": {
    "collapsed": false,
    "pycharm": {
     "name": "#%%\n"
    }
   }
  },
  {
   "cell_type": "markdown",
   "source": [
    "## Generate sample data\n",
    "\n",
    "Import the sample data as numpy array. Reshape the data to fit d=10\n",
    "and n= to whatever the data set says. Extract y to make prediction with\n",
    "sklearn or something?"
   ],
   "metadata": {
    "collapsed": false,
    "pycharm": {
     "name": "#%% md\n"
    }
   }
  },
  {
   "cell_type": "code",
   "execution_count": 240,
   "outputs": [],
   "source": [
    "train_data = np.genfromtxt('train.csv', delimiter=',')\n",
    "train_data=np.delete(train_data,0,0)\n",
    "train_data=np.delete(train_data,0,1)\n",
    "y = train_data[:,0]\n",
    "train_data=np.delete(train_data,0,1)\n",
    "\n",
    "test_data = np.genfromtxt('test.csv', delimiter=',')\n",
    "ind = test_data[:,0]\n",
    "test_data = np.delete(test_data,0,0)\n",
    "test_data = np.delete(test_data,0,1)\n",
    "\n"
   ],
   "metadata": {
    "collapsed": false,
    "pycharm": {
     "name": "#%%\n"
    }
   }
  },
  {
   "cell_type": "markdown",
   "source": [
    "Now lets try to fit the data to the target using Support Vector Classification (SVC).\n",
    "For this we use the included svc command in skilearn."
   ],
   "metadata": {
    "collapsed": false,
    "pycharm": {
     "name": "#%% md\n"
    }
   }
  },
  {
   "cell_type": "code",
   "execution_count": 241,
   "outputs": [],
   "source": [
    "classifiers = [\n",
    "    #svm.SVR(kernel='linear', gamma='auto',tol=1e-9),\n",
    "    #linear_model.SGDRegressor(),\n",
    "    linear_model.BayesianRidge(tol=1e-16, n_iter=512),\n",
    "    #linear_model.LassoLars(max_iter=500),\n",
    "    linear_model.ARDRegression(tol=1e-8, n_iter=600),\n",
    "    #linear_model.PassiveAggressiveRegressor(),\n",
    "    linear_model.TheilSenRegressor(),\n",
    "    linear_model.LinearRegression()]\n",
    "\n",
    "title = [\"Id\", \"y\"]\n",
    "temp = np.zeros([2000,2])\n",
    "temp[:,0]= ind[1:]"
   ],
   "metadata": {
    "collapsed": false,
    "pycharm": {
     "name": "#%%\n"
    }
   }
  },
  {
   "cell_type": "markdown",
   "source": [
    "lets try to delete outliers from the dataset in order to have a better estimate of the overall data.\n"
   ],
   "metadata": {
    "collapsed": false,
    "pycharm": {
     "name": "#%% md\n"
    }
   }
  },
  {
   "cell_type": "code",
   "execution_count": 242,
   "outputs": [],
   "source": [
    "data_mean, data_std = np.mean(train_data), np.std(train_data)\n",
    "\n",
    "lof = sklearn.neighbors.LocalOutlierFactor(n_neighbors= 60)\n",
    "yhat = lof.fit_predict(train_data)\n",
    "\n",
    "mask = yhat != -1\n",
    "train_data, y = train_data[mask,:], y[mask]\n",
    "\n"
   ],
   "metadata": {
    "collapsed": false,
    "pycharm": {
     "name": "#%%\n"
    }
   }
  },
  {
   "cell_type": "code",
   "execution_count": 243,
   "outputs": [
    {
     "name": "stdout",
     "output_type": "stream",
     "text": [
      "Using BayesianRidge(n_iter=512, tol=1e-16) we have an Absolute Error of 3.982987952293575e-11 on the TRAINING DATA \n",
      "\n",
      "The Score for the test data is {'s': 1.0} \n",
      "\n",
      "           Id           y\n",
      "0     10000.0  -66.002423\n",
      "1     10001.0  451.406504\n",
      "2     10002.0 -461.676417\n",
      "3     10003.0   40.501209\n",
      "4     10004.0 -126.744722\n",
      "...       ...         ...\n",
      "1995  11995.0  464.715255\n",
      "1996  11996.0  496.485334\n",
      "1997  11997.0  -35.135409\n",
      "1998  11998.0 -131.679185\n",
      "1999  11999.0  417.269155\n",
      "\n",
      "[2000 rows x 2 columns]\n",
      "Using ARDRegression(n_iter=600, tol=1e-08) we have an Absolute Error of 1.3229044701006721e-11 on the TRAINING DATA \n",
      "\n",
      "The Score for the test data is {'s': 1.0} \n",
      "\n",
      "           Id           y\n",
      "0     10000.0  -66.002423\n",
      "1     10001.0  451.406504\n",
      "2     10002.0 -461.676417\n",
      "3     10003.0   40.501209\n",
      "4     10004.0 -126.744722\n",
      "...       ...         ...\n",
      "1995  11995.0  464.715255\n",
      "1996  11996.0  496.485334\n",
      "1997  11997.0  -35.135409\n",
      "1998  11998.0 -131.679185\n",
      "1999  11999.0  417.269155\n",
      "\n",
      "[2000 rows x 2 columns]\n",
      "Using TheilSenRegressor(max_subpopulation=10000) we have an Absolute Error of 1.747373148459374e-11 on the TRAINING DATA \n",
      "\n",
      "The Score for the test data is {'s': 1.0} \n",
      "\n",
      "           Id           y\n",
      "0     10000.0  -66.002423\n",
      "1     10001.0  451.406504\n",
      "2     10002.0 -461.676417\n",
      "3     10003.0   40.501209\n",
      "4     10004.0 -126.744722\n",
      "...       ...         ...\n",
      "1995  11995.0  464.715255\n",
      "1996  11996.0  496.485334\n",
      "1997  11997.0  -35.135409\n",
      "1998  11998.0 -131.679185\n",
      "1999  11999.0  417.269155\n",
      "\n",
      "[2000 rows x 2 columns]\n",
      "Using LinearRegression() we have an Absolute Error of 3.797572026452787e-11 on the TRAINING DATA \n",
      "\n",
      "The Score for the test data is {'s': 1.0} \n",
      "\n",
      "           Id           y\n",
      "0     10000.0  -66.002423\n",
      "1     10001.0  451.406504\n",
      "2     10002.0 -461.676417\n",
      "3     10003.0   40.501209\n",
      "4     10004.0 -126.744722\n",
      "...       ...         ...\n",
      "1995  11995.0  464.715255\n",
      "1996  11996.0  496.485334\n",
      "1997  11997.0  -35.135409\n",
      "1998  11998.0 -131.679185\n",
      "1999  11999.0  417.269155\n",
      "\n",
      "[2000 rows x 2 columns]\n"
     ]
    }
   ],
   "source": [
    "for item in classifiers:\n",
    "    clf = item\n",
    "    clf.fit(train_data,y)\n",
    "    predict_train = clf.predict(train_data)\n",
    "    predict_test = clf.predict(test_data)\n",
    "    #print(clf.score(train_data,predict))\n",
    "    print(\"Using %(n)s we have an Absolute Error of %(s)s on the TRAINING DATA\" % {'n': item, 's': np.linalg.norm(y-predict_train)}, \"\\n\")\n",
    "    print(\"The Score for the test data is %s\" % {'s': clf.score(test_data,predict_test)}, \"\\n\")\n",
    "\n",
    "    temp[:,1] = predict_test\n",
    "    result = pd.DataFrame(temp, columns=title)\n",
    "    print(result)\n",
    "    result.to_csv(\"REEE%s.csv\" %item, header=True, index = False)"
   ],
   "metadata": {
    "collapsed": false,
    "pycharm": {
     "name": "#%%\n"
    }
   }
  },
  {
   "cell_type": "markdown",
   "source": [
    "7.183621407620719e-11\n",
    "6.677525227032642e-11\n",
    "4.802438449647887e-11\n",
    "4.802438449647887e-11\n",
    "\n",
    "2.0998834488939323e-11 n_neighbour = 20\n",
    "1.5426904780026072e-11 n_neighbour = 50\n",
    "1.3229044701006721e-11 n_neighbour = 60\n",
    "\n",
    "\n",
    "\n",
    "6= 3.290098950485172e-11\n",
    "8= 3.290098950485172e-11"
   ],
   "metadata": {
    "collapsed": false,
    "pycharm": {
     "name": "#%% md\n"
    }
   }
  },
  {
   "cell_type": "code",
   "execution_count": 244,
   "outputs": [
    {
     "name": "stdout",
     "output_type": "stream",
     "text": [
      "1.7749387688304585\n",
      "993.2555248831536\n"
     ]
    }
   ],
   "source": [
    "print(np.mean(train_data))\n",
    "print(np.std(train_data))"
   ],
   "metadata": {
    "collapsed": false,
    "pycharm": {
     "name": "#%%\n"
    }
   }
  }
 ],
 "metadata": {
  "kernelspec": {
   "display_name": "Python 3",
   "language": "python",
   "name": "python3"
  },
  "language_info": {
   "codemirror_mode": {
    "name": "ipython",
    "version": 2
   },
   "file_extension": ".py",
   "mimetype": "text/x-python",
   "name": "python",
   "nbconvert_exporter": "python",
   "pygments_lexer": "ipython2",
   "version": "2.7.6"
  }
 },
 "nbformat": 4,
 "nbformat_minor": 0
}