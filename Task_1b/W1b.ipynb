{
 "cells": [
  {
   "cell_type": "markdown",
   "source": [
    "# Week 1b Hand-In\n",
    "\n",
    "Learning based on linear regression (I think)"
   ],
   "metadata": {
    "collapsed": false
   }
  },
  {
   "cell_type": "code",
   "execution_count": 1,
   "outputs": [],
   "source": [
    "import numpy as np\n",
    "from sklearn.metrics import mean_squared_error\n",
    "import sklearn\n",
    "from sklearn import neighbors\n",
    "import pandas as pd"
   ],
   "metadata": {
    "collapsed": false,
    "pycharm": {
     "name": "#%%\n"
    }
   }
  },
  {
   "cell_type": "markdown",
   "source": [
    "## Generate sample data\n",
    "\n",
    "Import the sample data as numpy array. Reshape the data to fit d=13\n",
    "and n= to whatever the data set says. Extract y to make prediction with\n",
    "sklearn."
   ],
   "metadata": {
    "collapsed": false,
    "pycharm": {
     "name": "#%% md\n"
    }
   }
  },
  {
   "cell_type": "code",
   "execution_count": 2,
   "outputs": [
    {
     "output_type": "stream",
     "name": "stdout",
     "text": [
      "(700,)\n(700, 5)\n"
     ]
    }
   ],
   "source": [
    "train_data = np.genfromtxt('train.csv', delimiter=',')\n",
    "train_data=np.delete(train_data,0,0)\n",
    "train_data=np.delete(train_data,0,1)\n",
    "y = train_data[:,0]\n",
    "train_data=np.delete(train_data,0,1)\n",
    "\n",
    "print(y.shape)\n",
    "print(train_data.shape)"
   ],
   "metadata": {
    "collapsed": false,
    "pycharm": {
     "name": "#%%\n"
    }
   }
  },
  {
   "cell_type": "markdown",
   "source": [
    "lets try to get rid of some outliers and see if this changes the final error"
   ],
   "metadata": {
    "collapsed": false
   }
  },
  {
   "cell_type": "code",
   "execution_count": 3,
   "outputs": [],
   "source": [
    "data_mean, data_std = np.mean(train_data), np.std(train_data)\n",
    "\n",
    "lof = sklearn.neighbors.LocalOutlierFactor(n_neighbors= 60)\n",
    "yhat = lof.fit_predict(train_data)\n",
    "\n",
    "mask = yhat != -1\n",
    "#train_data, y = train_data[mask,:], y[mask]\n"
   ],
   "metadata": {
    "collapsed": false,
    "pycharm": {
     "name": "#%%\n"
    }
   }
  },
  {
   "cell_type": "markdown",
   "source": [
    "lets try to delete outliers from the dataset in order to have a better\n",
    "estimate of the overall data. (but screw this cause apparently we dont need it)\n",
    "instead the data has to be extended according to the given equation in the exercise.\n",
    "therefore the final test_data matrix shall have shape 700,21 for which we optimize\n",
    "the 21 weights.\n",
    "first we need it normal\n",
    "then quadratic\n",
    "then exponential\n",
    "then in cosine(x)\n",
    "and then as a bias of 1"
   ],
   "metadata": {
    "collapsed": false,
    "pycharm": {
     "name": "#%% md\n"
    }
   }
  },
  {
   "cell_type": "code",
   "execution_count": 4,
   "outputs": [],
   "source": [
    "train_data_quad = train_data**2\n",
    "train_data_exp = np.exp(train_data)\n",
    "train_data_cos = np.cos(train_data)\n",
    "bias = np.ones([700,1])\n",
    "\n",
    "train_total = np.append(train_data,train_data_quad,axis=1)\n",
    "train_total = np.append(train_total,train_data_exp,axis=1)\n",
    "train_total = np.append(train_total,train_data_cos,axis=1)\n",
    "train_total = np.append(train_total,bias,axis=1)\n",
    "#print(train_total.shape)\n",
    "#print(train_total[:,[0,5,10,15]])"
   ],
   "metadata": {
    "collapsed": false,
    "pycharm": {
     "name": "#%%\n"
    }
   }
  },
  {
   "cell_type": "markdown",
   "source": [
    "lets define some classifiers in order to check for the best one:"
   ],
   "metadata": {
    "collapsed": false,
    "pycharm": {
     "name": "#%% md\n"
    }
   }
  },
  {
   "cell_type": "code",
   "execution_count": 12,
   "outputs": [],
   "source": [
    "classifiers = [\n",
    "    #sklearn.svm.SVR(kernel='linear', gamma='auto',tol=1e-14),\n",
    "    #sklearn.linear_model.SGDRegressor(),\n",
    "    #sklearn.linear_model.BayesianRidge(tol=1e-16, n_iter=512),\n",
    "    #sklearn.linear_model.LassoLars(max_iter=500),\n",
    "    #sklearn.linear_model.ARDRegression(tol=1e-8, n_iter=1000),\n",
    "    #sklearn.linear_model.PassiveAggressiveRegressor(),\n",
    "    #sklearn.linear_model.TheilSenRegressor(max_iter=1024,tol=1e-16),\n",
    "    #sklearn.linear_model.ARDRegression(tol=1e-16, n_iter=512),\n",
    "    sklearn.linear_model.LinearRegression(fit_intercept=False)]"
   ],
   "metadata": {
    "collapsed": false,
    "pycharm": {
     "name": "#%%\n"
    }
   }
  },
  {
   "cell_type": "markdown",
   "source": [
    "now let's predict some stuff :D"
   ],
   "metadata": {
    "collapsed": false,
    "pycharm": {
     "name": "#%% md\n"
    }
   }
  },
  {
   "cell_type": "code",
   "execution_count": 25,
   "outputs": [
    {
     "output_type": "stream",
     "name": "stdout",
     "text": [
      "The best linear model is LinearRegression(fit_intercept=False) with a RMSE of 1.932092240131208.\n\n"
     ]
    }
   ],
   "source": [
    "temp= np.zeros([21,1])\n",
    "winner = \"All are worse than 1000\"\n",
    "winner_rmse = 1000\n",
    "for item in classifiers:\n",
    "    clf = item\n",
    "\n",
    "\n",
    "    clf.fit(train_total,y)\n",
    "    predict_train = clf.predict(train_total)\n",
    "    rmse = mean_squared_error(y, predict_train, squared=False)\n",
    "\n",
    "    if rmse < winner_rmse:  #Leaving the RMSE check in even tough for 1b we only needed linear regression.\n",
    "        winner_rmse = rmse\n",
    "        winner = str(item)\n",
    "        np.savetxt(\"REEEE.csv\", clf.coef_ , delimiter=\",\")\n",
    "\n",
    "print(\"The best linear model is %(n)s with a RMSE of %(s)s.\\n\" % {'n': winner, 's': winner_rmse})"
   ],
   "metadata": {
    "collapsed": false,
    "pycharm": {
     "name": "#%%\n"
    }
   }
  }
 ],
 "metadata": {
  "kernelspec": {
   "name": "python3",
   "language": "python",
   "display_name": "Python 3"
  },
  "language_info": {
   "codemirror_mode": {
    "name": "ipython",
    "version": 2
   },
   "file_extension": ".py",
   "mimetype": "text/x-python",
   "name": "python",
   "nbconvert_exporter": "python",
   "pygments_lexer": "ipython2",
   "version": "3.8.5-final"
  }
 },
 "nbformat": 4,
 "nbformat_minor": 0
}