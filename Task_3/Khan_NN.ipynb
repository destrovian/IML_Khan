{
 "metadata": {
  "language_info": {
   "codemirror_mode": {
    "name": "ipython",
    "version": 3
   },
   "file_extension": ".py",
   "mimetype": "text/x-python",
   "name": "python",
   "nbconvert_exporter": "python",
   "pygments_lexer": "ipython3",
   "version": "3.8.5"
  },
  "orig_nbformat": 2,
  "kernelspec": {
   "name": "python3",
   "language": "python",
   "display_name": "Python 3"
  }
 },
 "nbformat": 4,
 "nbformat_minor": 2,
 "cells": [
  {
   "cell_type": "code",
   "execution_count": 9,
   "metadata": {},
   "outputs": [],
   "source": [
    "import numpy as np\n",
    "import sklearn as skl\n",
    "import pandas as pd\n",
    "import sklearn.preprocessing\n",
    "from sklearn import linear_model\n",
    "from scipy import special\n",
    "from sklearn.impute import SimpleImputer\n",
    "from sklearn.metrics import mean_squared_error\n",
    "import keras\n",
    "from keras.layers import Dense, BatchNormalization\n",
    "from keras.models import Sequential\n",
    "from tensorflow.python.client import device_lib\n",
    "\n",
    "np.random.seed(69) #fixing seed for reproducability"
   ]
  },
  {
   "cell_type": "code",
   "execution_count": 10,
   "metadata": {},
   "outputs": [],
   "source": [
    "#print(device_lib.list_local_devices())\n",
    "\n",
    "df_train = pd.read_csv(\"train.csv\")\n",
    "df_splitt = df_train['Sequence'].apply(lambda x: pd.Series(list(x))) #splitts the 4 mutators into individual columns.\n",
    "\n",
    "#df_letters = pd.concat([df_train['Sequence'].apply(lambda x: pd.Series(list(x))), df_train['Active']],axis=1)"
   ]
  },
  {
   "cell_type": "code",
   "execution_count": 11,
   "metadata": {},
   "outputs": [],
   "source": [
    "df_test = pd.read_csv(\"test.csv\")\n",
    "df_test_s = df_test['Sequence'].apply(lambda x: pd.Series(list(x)))"
   ]
  },
  {
   "cell_type": "code",
   "execution_count": 12,
   "metadata": {},
   "outputs": [],
   "source": [
    "# define universe of possible input values\n",
    "mutators = 'ACDEFGHIKLMNPQRSTUVWY' #abcdefghijklmnopqrstuvwxyz\n",
    "#bjoqxz <-- these letters are missing\n",
    "\n",
    "# define a mapping of chars to integers\n",
    "char_to_int = dict((c, i) for i, c in enumerate(mutators))\n",
    "int_to_char = dict((i, c) for i, c in enumerate(mutators))\n",
    "\n",
    "# integer encode input data\n",
    "#integer_encoded = [char_to_int[item] for item in df_letters[0]]\n",
    "#print(integer_encoded)"
   ]
  },
  {
   "cell_type": "code",
   "execution_count": 13,
   "metadata": {
    "tags": []
   },
   "outputs": [],
   "source": [
    "df = np.zeros((112000, 4))\n",
    "#Possibly the worst fucking way we could have done this. But fuckem.\n",
    "for i in range(0,4):\n",
    "    for j in range(0, 112000):\n",
    "        temp = char_to_int[df_splitt.loc[j,i]]\n",
    "        #df[j, i*19 + temp] = 1\n",
    "        df[j, i] = temp"
   ]
  },
  {
   "cell_type": "code",
   "execution_count": 14,
   "metadata": {},
   "outputs": [],
   "source": [
    "#Do the same with the test dataframe\n",
    "df_cock = np.zeros((48000, 4))\n",
    "\n",
    "for i in range(0,4):\n",
    "    for j in range(0, 48000):\n",
    "        temp = char_to_int[df_test_s.loc[j,i]]\n",
    "        #df_cock[j, i*19 + temp] = 1\n",
    "        df_cock[j, i] = temp"
   ]
  },
  {
   "cell_type": "code",
   "execution_count": 15,
   "metadata": {},
   "outputs": [
    {
     "name": "stdout",
     "output_type": "stream",
     "text": [
      "Done with fitting\n"
     ]
    }
   ],
   "source": [
    "clf = skl.linear_model.RidgeCV(alphas=[0.01, 0.01, 0.1, 1, 10, 100, 1000, 2000,5000], cv=15)\n",
    "\n",
    "labels = df_train['Active'].to_numpy()\n",
    "\n",
    "#predict cocks:\n",
    "#clf.fit(df,labels)\n",
    "print('Done with fitting')\n",
    "#predict_train = clf.predict(df)\n",
    "#print('Done with prediction and error is: ', np.sqrt(np.mean((predict_train-labels)**2)))\n",
    "#predict_cancer = clf.predict(df_cock)\n",
    "#predict_cancer = np.where(predict_cancer > 0.5, 1, 0)"
   ]
  },
  {
   "cell_type": "code",
   "execution_count": 16,
   "metadata": {},
   "outputs": [
    {
     "name": "stdout",
     "output_type": "stream",
     "text": [
      "Done with fitting\n"
     ]
    }
   ],
   "source": [
    "#clf = skl.svm.LinearSVC(dual=False, class_weight='balanced')\n",
    "\n",
    "#labels = df_train['Active'].to_numpy()\n",
    "\n",
    "#predict cocks:\n",
    "#clf.fit(df,labels)\n",
    "print('Done with fitting')\n",
    "#predict_train = clf.predict(df)\n",
    "#print('Done with prediction and error is: ', np.sqrt(np.mean((predict_train-labels)**2)))\n",
    "#predict_cancer = clf.predict(df_cock)\n",
    "#predict_cancer = np.where(predict_cancer > 0.5, 1, 0)"
   ]
  },
  {
   "cell_type": "code",
   "execution_count": 17,
   "metadata": {
    "pycharm": {
     "name": "#%%\n"
    }
   },
   "outputs": [],
   "source": [
    "#np.savetxt('submission_sklearn.csv', predict_cancer, delimiter=',', fmt='%i')"
   ]
  },
  {
   "cell_type": "code",
   "execution_count": 20,
   "outputs": [
    {
     "name": "stdout",
     "output_type": "stream",
     "text": [
      "[[0.1  0.4  0.95 0.45]\n",
      " [0.2  0.05 0.3  0.55]\n",
      " [0.4  0.1  0.65 0.6 ]\n",
      " ...\n",
      " [0.75 0.25 0.3  0.05]\n",
      " [0.4  0.35 0.25 0.8 ]\n",
      " [0.6  0.25 0.6  0.8 ]]\n",
      "[0 0 0 ... 0 0 0]\n",
      "[[0.3  0.95 0.2  0.4 ]\n",
      " [0.5  0.95 0.6  0.95]\n",
      " [0.   0.45 0.1  0.9 ]\n",
      " ...\n",
      " [0.   0.2  0.55 0.5 ]\n",
      " [0.05 0.7  1.   0.35]\n",
      " [0.5  0.4  0.2  0.05]]\n"
     ]
    }
   ],
   "source": [
    "#lets norm this shit\n",
    "df_nn = df/20\n",
    "df_cock_nn = df_cock/20\n",
    "\n",
    "print(df_nn)\n",
    "print(labels)\n",
    "print(df_cock_nn)"
   ],
   "metadata": {
    "collapsed": false,
    "pycharm": {
     "name": "#%%\n"
    }
   }
  },
  {
   "cell_type": "code",
   "execution_count": null,
   "outputs": [],
   "source": [
    "#lets construct the neural net:\n",
    "neuralNetwork = Sequential()\n",
    "neuralNetwork.add(Dense(100, activation='relu', input_dim=4))\n",
    "neuralNetwork.add(BatchNormalization())\n",
    "neuralNetwork.add(Dense(100, activation='relu'))\n",
    "neuralNetwork.add(BatchNormalization())\n",
    "neuralNetwork.add(Dense(100, activation='relu'))\n",
    "neuralNetwork.add(BatchNormalization())\n",
    "neuralNetwork.add(Dense(1, activation='relu'))\n",
    "neuralNetwork.add(BatchNormalization())\n",
    "neuralNetwork.compile(loss = 'binary_crossentropy', optimizer = 'sgd', metrics=['accuracy'])\n",
    "\n",
    "#fit the network to (for now the un-sparse matrix)\n",
    "neuralNetwork.fit(df_nn, labels, epochs=500, batch_size=256, verbose=0)"
   ],
   "metadata": {
    "collapsed": false,
    "pycharm": {
     "name": "#%%\n",
     "is_executing": true
    }
   }
  },
  {
   "cell_type": "code",
   "execution_count": null,
   "outputs": [],
   "source": [
    "predict_cancer_nn = neuralNetwork.predict(df_cock_nn)\n",
    "print(predict_cancer_nn)\n",
    "predict_cancer_nn = (predict_cancer_nn <=-0.5)\n",
    "\n",
    "predict_cancer_nn = pd.DataFrame(predict_cancer_nn.astype('float'))\n",
    "predict_cancer_nn.to_csv('predictions.csv', header = False, index = False)"
   ],
   "metadata": {
    "collapsed": false,
    "pycharm": {
     "name": "#%%\n"
    }
   }
  },
  {
   "cell_type": "code",
   "execution_count": null,
   "outputs": [],
   "source": [
    "print(predict_cancer_nn.max())\n",
    "print(predict_cancer_nn.mean())\n",
    "\n",
    "predict_train = neuralNetwork.predict(df)\n",
    "predict_train_nn = pd.DataFrame(predict_train.astype('float'))\n",
    "print(predict_train_nn.max())\n",
    "print(predict_cancer_nn.min())"
   ],
   "metadata": {
    "collapsed": false,
    "pycharm": {
     "name": "#%%\n"
    }
   }
  }
 ]
}