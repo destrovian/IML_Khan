{
 "metadata": {
  "language_info": {
   "codemirror_mode": {
    "name": "ipython",
    "version": 3
   },
   "file_extension": ".py",
   "mimetype": "text/x-python",
   "name": "python",
   "nbconvert_exporter": "python",
   "pygments_lexer": "ipython3",
   "version": "3.8.5"
  },
  "orig_nbformat": 2,
  "kernelspec": {
   "name": "python385jvsc74a57bd0035816c817341503006e0a8714912042b4c6673b969b2520b787454674f444b8",
   "display_name": "Python 3.8.5 64-bit ('base': conda)"
  }
 },
 "nbformat": 4,
 "nbformat_minor": 2,
 "cells": [
  {
   "cell_type": "code",
   "execution_count": 4,
   "metadata": {},
   "outputs": [],
   "source": [
    "import numpy as np\n",
    "import sklearn as skl\n",
    "import pandas as pd\n",
    "import sklearn.preprocessing\n",
    "from sklearn import linear_model\n",
    "from sklearn.metrics import f1_score\n",
    "from scipy import special\n",
    "from sklearn.impute import SimpleImputer\n",
    "from sklearn.metrics import mean_squared_error\n",
    "import keras\n",
    "from keras.layers import Dense, BatchNormalization\n",
    "from keras.models import Sequential\n",
    "from tensorflow.python.client import device_lib\n",
    "\n",
    "np.random.seed(69) #fixing seed for reproducability"
   ]
  },
  {
   "cell_type": "code",
   "execution_count": 5,
   "metadata": {},
   "outputs": [],
   "source": [
    "#print(device_lib.list_local_devices())\n",
    "\n",
    "df_train = pd.read_csv(\"train.csv\")\n",
    "df_splitt = df_train['Sequence'].apply(lambda x: pd.Series(list(x))) #splitts the 4 mutators into individual columns.\n",
    "\n",
    "#df_letters = pd.concat([df_train['Sequence'].apply(lambda x: pd.Series(list(x))), df_train['Active']],axis=1)"
   ]
  },
  {
   "cell_type": "code",
   "execution_count": 6,
   "metadata": {},
   "outputs": [],
   "source": [
    "df_test = pd.read_csv(\"test.csv\")\n",
    "df_test_s = df_test['Sequence'].apply(lambda x: pd.Series(list(x)))"
   ]
  },
  {
   "cell_type": "code",
   "execution_count": 7,
   "metadata": {},
   "outputs": [],
   "source": [
    "# define universe of possible input values\n",
    "mutators = 'ACDEFGHIKLMNPQRSTUVWY' #abcdefghijklmnopqrstuvwxyz\n",
    "#bjoqxz <-- these letters are missing\n",
    "\n",
    "# define a mapping of chars to integers\n",
    "char_to_int = dict((c, i) for i, c in enumerate(mutators))\n",
    "int_to_char = dict((i, c) for i, c in enumerate(mutators))\n",
    "\n",
    "# integer encode input data\n",
    "#integer_encoded = [char_to_int[item] for item in df_letters[0]]\n",
    "#print(integer_encoded)"
   ]
  },
  {
   "cell_type": "code",
   "execution_count": 8,
   "metadata": {
    "tags": []
   },
   "outputs": [],
   "source": [
    "df = np.zeros((112000, 21*4))\n",
    "#Possibly the worst fucking way we could have done this. But fuckem.\n",
    "for i in range(0,4):\n",
    "    for j in range(0, 112000):\n",
    "        temp = char_to_int[df_splitt.loc[j,i]]\n",
    "        df[j, i*21 + temp] = 1      #binary representation of the letters\n",
    "        #df[j, i] = temp             #letter as float (0,1]"
   ]
  },
  {
   "cell_type": "code",
   "execution_count": 9,
   "metadata": {},
   "outputs": [],
   "source": [
    "#Do the same with the test dataframe\n",
    "df_cock = np.zeros((48000, 21*4))\n",
    "\n",
    "for i in range(0,4):\n",
    "    for j in range(0, 48000):\n",
    "        temp = char_to_int[df_test_s.loc[j,i]]\n",
    "        df_cock[j, i*21 + temp] = 1\n",
    "        #df_cock[j, i] = temp"
   ]
  },
  {
   "cell_type": "code",
   "execution_count": 10,
   "metadata": {},
   "outputs": [
    {
     "output_type": "stream",
     "name": "stdout",
     "text": [
      "Done with fitting\n"
     ]
    }
   ],
   "source": [
    "clf = skl.linear_model.RidgeCV(alphas=[0.01, 0.01, 0.1, 1, 10, 100, 1000, 2000,5000], cv=15)\n",
    "\n",
    "labels = df_train['Active'].to_numpy()\n",
    "\n",
    "#predict cocks:\n",
    "#clf.fit(df,labels)\n",
    "print('Done with fitting')\n",
    "#predict_train = clf.predict(df)\n",
    "#print('Done with prediction and error is: ', np.sqrt(np.mean((predict_train-labels)**2)))\n",
    "#predict_cancer = clf.predict(df_cock)\n",
    "#predict_cancer = np.where(predict_cancer > 0.5, 1, 0)"
   ]
  },
  {
   "cell_type": "code",
   "execution_count": 11,
   "metadata": {},
   "outputs": [
    {
     "output_type": "stream",
     "name": "stdout",
     "text": [
      "Done with fitting\n"
     ]
    }
   ],
   "source": [
    "#clf = skl.svm.LinearSVC(dual=False, class_weight='balanced')\n",
    "\n",
    "#labels = df_train['Active'].to_numpy()\n",
    "\n",
    "#predict cocks:\n",
    "#clf.fit(df,labels)\n",
    "print('Done with fitting')\n",
    "#predict_train = clf.predict(df)\n",
    "#print('Done with prediction and error is: ', np.sqrt(np.mean((predict_train-labels)**2)))\n",
    "#predict_cancer = clf.predict(df_cock)\n",
    "#predict_cancer = np.where(predict_cancer > 0.5, 1, 0)"
   ]
  },
  {
   "cell_type": "code",
   "execution_count": 12,
   "metadata": {
    "pycharm": {
     "name": "#%%\n"
    }
   },
   "outputs": [],
   "source": [
    "#np.savetxt('submission_sklearn.csv', predict_cancer, delimiter=',', fmt='%i')"
   ]
  },
  {
   "cell_type": "code",
   "execution_count": 13,
   "outputs": [],
   "source": [
    "#lets norm this shit (this is only necessary if we use the 4D representation\n",
    "#df_nn = (df+1)/21\n",
    "#df_cock_nn = (df_cock+1)/21\n",
    "\n",
    "#for the binary version use this:\n",
    "df_nn = df\n",
    "df_cock_nn = df_cock\n",
    "\n",
    "#print(df_nn.max(), df_nn.min())\n",
    "#print(labels.max(), labels.min())\n",
    "#print(df_cock_nn.max(), df_cock_nn.min())"
   ],
   "metadata": {
    "collapsed": false,
    "pycharm": {
     "name": "#%%\n"
    }
   }
  },
  {
   "cell_type": "code",
   "execution_count": 18,
   "metadata": {},
   "outputs": [],
   "source": [
    "callbacks = [\n",
    "    keras.callbacks.EarlyStopping(\n",
    "        # Stop training when val_loss is no longer improving\n",
    "        monitor=\"loss\",\n",
    "        # \"no longer improving\" being defined as \"no better than 1e-2 less\"\n",
    "        min_delta=1e-3,\n",
    "        # \"no longer improving\" being further defined as \"for at least 2 epochs\"\n",
    "        patience=2,\n",
    "    )\n",
    "]"
   ]
  },
  {
   "cell_type": "code",
   "execution_count": 19,
   "outputs": [
    {
     "output_type": "stream",
     "name": "stdout",
     "text": [
      "Epoch 1/50\n",
      "110/110 [==============================] - 2s 11ms/step - loss: 0.5701 - accuracy: 0.7339\n",
      "Epoch 2/50\n",
      "110/110 [==============================] - 1s 9ms/step - loss: 0.0978 - accuracy: 0.9839\n",
      "Epoch 3/50\n",
      "110/110 [==============================] - 1s 9ms/step - loss: 0.0378 - accuracy: 0.9901\n",
      "Epoch 4/50\n",
      "110/110 [==============================] - 1s 9ms/step - loss: 0.0241 - accuracy: 0.9930\n",
      "Epoch 5/50\n",
      "110/110 [==============================] - 1s 9ms/step - loss: 0.0176 - accuracy: 0.9943\n",
      "Epoch 6/50\n",
      "110/110 [==============================] - 1s 9ms/step - loss: 0.0132 - accuracy: 0.9961\n",
      "Epoch 7/50\n",
      "110/110 [==============================] - 1s 8ms/step - loss: 0.0116 - accuracy: 0.9965\n",
      "Epoch 8/50\n",
      "110/110 [==============================] - 1s 8ms/step - loss: 0.0094 - accuracy: 0.9972\n",
      "Epoch 9/50\n",
      "110/110 [==============================] - 1s 8ms/step - loss: 0.0064 - accuracy: 0.9982\n",
      "Epoch 10/50\n",
      "110/110 [==============================] - 1s 8ms/step - loss: 0.0061 - accuracy: 0.9981\n",
      "Epoch 11/50\n",
      "110/110 [==============================] - 1s 9ms/step - loss: 0.0058 - accuracy: 0.9983\n",
      "Epoch 12/50\n",
      "110/110 [==============================] - 1s 8ms/step - loss: 0.0058 - accuracy: 0.9982\n",
      "Epoch 13/50\n",
      "110/110 [==============================] - 1s 8ms/step - loss: 0.0055 - accuracy: 0.9982\n",
      "[[2.1806359e-04]\n",
      " [6.3663721e-04]\n",
      " [3.2344460e-04]\n",
      " ...\n",
      " [1.0776536e-04]\n",
      " [1.3181567e-04]\n",
      " [1.4662254e-01]]\n",
      "[[2.6640296e-04]\n",
      " [2.2389537e-05]\n",
      " [1.5130639e-04]\n",
      " ...\n",
      " [2.2643805e-04]\n",
      " [2.6693940e-03]\n",
      " [5.3307414e-04]]\n"
     ]
    }
   ],
   "source": [
    "#lets construct the neural net:\n",
    "neuralNetwork = Sequential()\n",
    "neuralNetwork.add(Dense(128, activation='relu', input_dim=84))\n",
    "neuralNetwork.add(BatchNormalization())\n",
    "neuralNetwork.add(Dense(128, activation='relu'))\n",
    "neuralNetwork.add(BatchNormalization())\n",
    "neuralNetwork.add(Dense(128, activation='relu'))\n",
    "neuralNetwork.add(BatchNormalization())\n",
    "neuralNetwork.add(Dense(128, activation='relu'))\n",
    "neuralNetwork.add(BatchNormalization())\n",
    "neuralNetwork.add(Dense(128, activation='relu'))\n",
    "neuralNetwork.add(BatchNormalization())\n",
    "neuralNetwork.add(Dense(1, activation='sigmoid'))\n",
    "#neuralNetwork.add(BatchNormalization())\n",
    "neuralNetwork.compile(loss = keras.losses.BinaryCrossentropy(), optimizer = 'adam', metrics=['accuracy'])\n",
    "\n",
    "#fit the network to (for now the un-sparse matrix)\n",
    "#neuralNetwork.fit(df_nn, labels, epochs=50, batch_size=1024, verbose=1, callbacks= callbacks)\n",
    "\n",
    "#version without loss monitoring\n",
    "neuralNetwork.fit(df_nn, labels, epochs=50, batch_size=1024, verbose=1, callbacks= callbacks)\n",
    "\n",
    "\n",
    "#evaluation of the network prediction\n",
    "predict_cancer_nn = neuralNetwork.predict(df_cock_nn)\n",
    "predict_train_nn = neuralNetwork.predict(df_nn)\n",
    "print(predict_cancer_nn)\n",
    "print(predict_train_nn)\n",
    "predict_cancer_nn = (predict_cancer_nn >= 0.5)"
   ],
   "metadata": {
    "collapsed": false,
    "pycharm": {
     "name": "#%%\n"
    }
   }
  },
  {
   "cell_type": "code",
   "execution_count": 16,
   "outputs": [
    {
     "output_type": "stream",
     "name": "stdout",
     "text": [
      "1.0\n6.60469e-06\nactual labels: 4213\npredicted labels: 3715\nthe f1 score is: 0.9308779011099899\n"
     ]
    }
   ],
   "source": [
    "print(predict_train_nn.max())\n",
    "print(predict_train_nn.min())\n",
    "\n",
    "print(\"actual labels:\", np.sum(labels))\n",
    "print(\"predicted labels:\", np.sum(predict_train_nn >0.5))\n",
    "print(\"the f1 score is:\", f1_score(labels.astype('bool'), (predict_train_nn >=0.5).astype('bool')))"
   ],
   "metadata": {
    "collapsed": false,
    "pycharm": {
     "name": "#%% evaluation of the NN on the train data\n"
    }
   }
  },
  {
   "cell_type": "code",
   "execution_count": 17,
   "outputs": [],
   "source": [
    "predict_cancer_nn = pd.DataFrame(predict_cancer_nn.astype('int'))\n",
    "predict_cancer_nn.to_csv('predictions.csv', header = False, index = False)\n"
   ],
   "metadata": {
    "collapsed": false,
    "pycharm": {
     "name": "#%%\n"
    }
   }
  }
 ]
}