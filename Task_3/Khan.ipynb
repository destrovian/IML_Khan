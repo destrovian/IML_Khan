{
 "metadata": {
  "language_info": {
   "codemirror_mode": {
    "name": "ipython",
    "version": 3
   },
   "file_extension": ".py",
   "mimetype": "text/x-python",
   "name": "python",
   "nbconvert_exporter": "python",
   "pygments_lexer": "ipython3",
   "version": "3.8.5"
  },
  "orig_nbformat": 2,
  "kernelspec": {
   "name": "python3",
   "display_name": "Python 3.8.5 64-bit (conda)",
   "metadata": {
    "interpreter": {
     "hash": "b3ba2566441a7c06988d0923437866b63cedc61552a5af99d1f4fb67d367b25f"
    }
   }
  }
 },
 "nbformat": 4,
 "nbformat_minor": 2,
 "cells": [
  {
   "cell_type": "code",
   "execution_count": 1,
   "metadata": {},
   "outputs": [],
   "source": [
    "import numpy as np\n",
    "import sklearn as skl\n",
    "import pandas as pd\n",
    "import sklearn.preprocessing\n",
    "from sklearn import linear_model\n",
    "from scipy import special\n",
    "from sklearn.impute import SimpleImputer\n",
    "from sklearn.metrics import mean_squared_error\n",
    "\n",
    "np.random.seed(69) #fixing seed for reproducability"
   ]
  },
  {
   "cell_type": "code",
   "execution_count": 54,
   "metadata": {},
   "outputs": [],
   "source": [
    "df_train = pd.read_csv(\"train.csv\")\n",
    "df_splitt = df_train['Sequence'].apply(lambda x: pd.Series(list(x))) #splitts the 4 mutators into individual columns.\n",
    "\n",
    "#df_letters = pd.concat([df_train['Sequence'].apply(lambda x: pd.Series(list(x))), df_train['Active']],axis=1)"
   ]
  },
  {
   "cell_type": "code",
   "execution_count": 55,
   "metadata": {},
   "outputs": [],
   "source": [
    "df_test = pd.read_csv(\"test.csv\")\n",
    "df_test_s = df_test['Sequence'].apply(lambda x: pd.Series(list(x)))"
   ]
  },
  {
   "cell_type": "code",
   "execution_count": 56,
   "metadata": {},
   "outputs": [
    {
     "output_type": "stream",
     "name": "stdout",
     "text": [
      "(48000, 4)\n"
     ]
    }
   ],
   "source": [
    "print(df_test_s.shape)"
   ]
  },
  {
   "cell_type": "code",
   "execution_count": 51,
   "metadata": {},
   "outputs": [],
   "source": [
    "# define universe of possible input values\n",
    "mutators = 'ACDEFGHIKLMNPQRSTUVWY' #abcdefghijklmnopqrstuvwxyz\n",
    "#bjoqxz <-- these letters are missing\n",
    "\n",
    "# define a mapping of chars to integers\n",
    "char_to_int = dict((c, i) for i, c in enumerate(mutators))\n",
    "int_to_char = dict((i, c) for i, c in enumerate(mutators))\n",
    "\n",
    "# integer encode input data\n",
    "#integer_encoded = [char_to_int[item] for item in df_letters[0]]\n",
    "#print(integer_encoded)"
   ]
  },
  {
   "cell_type": "code",
   "execution_count": 53,
   "metadata": {
    "tags": []
   },
   "outputs": [],
   "source": [
    "df = np.zeros((112000, 21 * 4))\n",
    "#Possibly the worst fucking way we could have done this. But fuckem.\n",
    "for i in range(0,4):\n",
    "    for j in range(0, 112000):\n",
    "        temp = char_to_int[df_splitt.loc[j,i]]\n",
    "        df[j, i*19 + temp] = 1"
   ]
  },
  {
   "cell_type": "code",
   "execution_count": 57,
   "metadata": {},
   "outputs": [],
   "source": [
    "#Do the same with the test dataframe\n",
    "df_cock = np.zeros((48000, 21 * 4))\n",
    "\n",
    "for i in range(0,4):\n",
    "    for j in range(0, 48000):\n",
    "        temp = char_to_int[df_test_s.loc[j,i]]\n",
    "        df_cock[j, i*19 + temp] = 1"
   ]
  },
  {
   "cell_type": "code",
   "execution_count": 59,
   "metadata": {},
   "outputs": [
    {
     "output_type": "stream",
     "name": "stdout",
     "text": [
      "0.17186829726659222\n"
     ]
    }
   ],
   "source": [
    "clf = skl.linear_model.RidgeCV(alphas=[0.01, 0.01, 0.1, 1, 10, 100, 1000, 2000,5000], cv=15)\n",
    "\n",
    "labels = df_train['Active'].to_numpy()\n",
    "\n",
    "#predict cocks:\n",
    "clf.fit(df,labels)\n",
    "print('Done with fitting')\n",
    "predict_train = clf.predict(df)\n",
    "print('Done with prediction and error is: ', np.sqrt(np.mean((predict_train-labels)**2)))\n",
    "predict_cancer = clf.predict(df_cock)\n",
    "predict_cancer = np.where(predict_cancer > 0.5, 1, 0)"
   ]
  },
  {
   "cell_type": "code",
   "execution_count": 62,
   "metadata": {},
   "outputs": [
    {
     "output_type": "stream",
     "name": "stdout",
     "text": [
      "Done with fitting\nDone with prediction and error is:  0.31425933330838174\n"
     ]
    }
   ],
   "source": [
    "clf = skl.svm.LinearSVC(dual=False, class_weight='balanced')\n",
    "\n",
    "labels = df_train['Active'].to_numpy()\n",
    "\n",
    "#predict cocks:\n",
    "clf.fit(df,labels)\n",
    "print('Done with fitting')\n",
    "predict_train = clf.predict(df)\n",
    "print('Done with prediction and error is: ', np.sqrt(np.mean((predict_train-labels)**2)))\n",
    "predict_cancer = clf.predict(df_cock)\n",
    "predict_cancer = np.where(predict_cancer > 0.5, 1, 0)"
   ]
  },
  {
   "cell_type": "code",
   "execution_count": 67,
   "metadata": {},
   "outputs": [],
   "source": [
    "np.savetxt('submission.csv', predict_cancer, delimiter=',', fmt='%i')"
   ]
  }
 ]
}