{
 "metadata": {
  "language_info": {
   "codemirror_mode": {
    "name": "ipython",
    "version": 3
   },
   "file_extension": ".py",
   "mimetype": "text/x-python",
   "name": "python",
   "nbconvert_exporter": "python",
   "pygments_lexer": "ipython3",
   "version": "3.8.5"
  },
  "orig_nbformat": 2,
  "kernelspec": {
   "name": "python385jvsc74a57bd0b3ba2566441a7c06988d0923437866b63cedc61552a5af99d1f4fb67d367b25f",
   "display_name": "Python 3.8.5 64-bit ('base': conda)"
  }
 },
 "nbformat": 4,
 "nbformat_minor": 2,
 "cells": [
  {
   "cell_type": "code",
   "execution_count": 2,
   "metadata": {},
   "outputs": [],
   "source": [
    "from clarifai_grpc.channel.clarifai_channel import ClarifaiChannel\n",
    "from clarifai_grpc.grpc.api import service_pb2_grpc\n",
    "\n",
    "stub = service_pb2_grpc.V2Stub(ClarifaiChannel.get_grpc_channel())\n",
    "\n",
    "import pandas as pd\n",
    "import numpy as np\n",
    "import time"
   ]
  },
  {
   "cell_type": "code",
   "execution_count": 7,
   "metadata": {},
   "outputs": [],
   "source": [
    "import zipfile\n",
    "\n",
    "with zipfile.ZipFile(\"food.zip\",\"r\") as zip_ref:\n",
    "    zip_ref.extractall(\"food_porn\")\n",
    "\n"
   ]
  },
  {
   "cell_type": "code",
   "execution_count": 8,
   "metadata": {},
   "outputs": [],
   "source": [
    "dir = 'food_porn/food/'"
   ]
  },
  {
   "cell_type": "code",
   "execution_count": 17,
   "metadata": {},
   "outputs": [],
   "source": [
    "def flatten_list(_2d_list):\n",
    "    flat_list = []\n",
    "    # Iterate through the outer list\n",
    "    for element in _2d_list:\n",
    "        if type(element) is list:\n",
    "            # If the element is of type list, iterate through the sublist\n",
    "            for item in element:\n",
    "                flat_list.append(item)\n",
    "        else:\n",
    "            flat_list.append(element)\n",
    "    return flat_list"
   ]
  },
  {
   "cell_type": "code",
   "execution_count": 18,
   "metadata": {},
   "outputs": [],
   "source": [
    "from clarifai_grpc.grpc.api import service_pb2, resources_pb2\n",
    "from clarifai_grpc.grpc.api.status import status_code_pb2\n",
    "\n",
    "metadata = (('authorization', 'Key 0bec95f3015f4a26b5edd2cb62a4fdc6'),)\n",
    "\n",
    "def define_food (number, dir):\n",
    "    with open(dir + number + '.jpg', \"rb\") as f:\n",
    "        file_bytes = f.read()\n",
    "\n",
    "    request = service_pb2.PostModelOutputsRequest(\n",
    "        model_id='bd367be194cf45149e75f01d59f77ba7',\n",
    "        inputs=[\n",
    "        resources_pb2.Input(data=resources_pb2.Data(image=resources_pb2.Image(base64=file_bytes)))\n",
    "        ])\n",
    "    response = stub.PostModelOutputs(request, metadata=metadata)\n",
    "\n",
    "    if response.status.code != status_code_pb2.SUCCESS:\n",
    "        raise Exception(\"Request failed, status code: \" + str(response.status.code))\n",
    "\n",
    "    temp = [[concept.name, concept.value] for concept in response.outputs[0].data.concepts]\n",
    "    return flatten_list(temp)"
   ]
  },
  {
   "cell_type": "code",
   "execution_count": 19,
   "metadata": {},
   "outputs": [
    {
     "output_type": "stream",
     "name": "stdout",
     "text": [
      "['pie', 0.9858543276786804, 'pastry', 0.9853608012199402, 'cake', 0.9836643934249878, 'sweet', 0.9713603854179382, 'bread', 0.9693325161933899, 'cheese', 0.782551646232605, 'dairy product', 0.7273536920547485, 'meat', 0.682706356048584, 'cookie', 0.5992613434791565, 'crust', 0.5958021283149719, 'vegetable', 0.5746768712997437, 'dough', 0.5121260285377502, 'chocolate', 0.45739659667015076, 'pudding', 0.3970496952533722, 'cream', 0.36376792192459106, 'bread pudding', 0.3283917307853699, 'pork pie', 0.31448814272880554, 'tomato', 0.3140222430229187, 'meat pie', 0.29785072803497314, 'sauce', 0.28030264377593994]\n"
     ]
    }
   ],
   "source": [
    "print(define_food('00005', dir))"
   ]
  },
  {
   "cell_type": "code",
   "execution_count": 23,
   "metadata": {},
   "outputs": [
    {
     "output_type": "stream",
     "name": "stdout",
     "text": [
      "Currently at 0\n"
     ]
    },
    {
     "output_type": "error",
     "ename": "Exception",
     "evalue": "Request failed, status code: 10020",
     "traceback": [
      "\u001b[1;31m---------------------------------------------------------------------------\u001b[0m",
      "\u001b[1;31mException\u001b[0m                                 Traceback (most recent call last)",
      "\u001b[1;32m<ipython-input-23-f8516ab8e38c>\u001b[0m in \u001b[0;36m<module>\u001b[1;34m\u001b[0m\n\u001b[0;32m     10\u001b[0m         \u001b[0mfood\u001b[0m \u001b[1;33m=\u001b[0m \u001b[1;33m[\u001b[0m\u001b[1;36m0\u001b[0m \u001b[1;32mfor\u001b[0m \u001b[0mx\u001b[0m \u001b[1;32min\u001b[0m \u001b[0mrange\u001b[0m\u001b[1;33m(\u001b[0m\u001b[1;36m0\u001b[0m\u001b[1;33m,\u001b[0m\u001b[1;36m40\u001b[0m\u001b[1;33m)\u001b[0m\u001b[1;33m]\u001b[0m\u001b[1;33m\u001b[0m\u001b[1;33m\u001b[0m\u001b[0m\n\u001b[0;32m     11\u001b[0m \u001b[1;33m\u001b[0m\u001b[0m\n\u001b[1;32m---> 12\u001b[1;33m     \u001b[0mtemp\u001b[0m \u001b[1;33m=\u001b[0m \u001b[0mpd\u001b[0m\u001b[1;33m.\u001b[0m\u001b[0mDataFrame\u001b[0m\u001b[1;33m(\u001b[0m\u001b[0mdefine_food\u001b[0m\u001b[1;33m(\u001b[0m\u001b[0mnumber\u001b[0m\u001b[1;33m,\u001b[0m \u001b[0mdir\u001b[0m\u001b[1;33m)\u001b[0m\u001b[1;33m)\u001b[0m\u001b[1;33m\u001b[0m\u001b[1;33m\u001b[0m\u001b[0m\n\u001b[0m\u001b[0;32m     13\u001b[0m \u001b[1;33m\u001b[0m\u001b[0m\n\u001b[0;32m     14\u001b[0m     \u001b[0mresult\u001b[0m \u001b[1;33m=\u001b[0m \u001b[0mpd\u001b[0m\u001b[1;33m.\u001b[0m\u001b[0mconcat\u001b[0m\u001b[1;33m(\u001b[0m\u001b[1;33m(\u001b[0m\u001b[0mresult\u001b[0m\u001b[1;33m,\u001b[0m \u001b[0mtemp\u001b[0m\u001b[1;33m.\u001b[0m\u001b[0mtranspose\u001b[0m\u001b[1;33m(\u001b[0m\u001b[1;33m)\u001b[0m\u001b[1;33m)\u001b[0m\u001b[1;33m)\u001b[0m\u001b[1;33m\u001b[0m\u001b[1;33m\u001b[0m\u001b[0m\n",
      "\u001b[1;32m<ipython-input-18-bd687a68526b>\u001b[0m in \u001b[0;36mdefine_food\u001b[1;34m(number, dir)\u001b[0m\n\u001b[0;32m     16\u001b[0m \u001b[1;33m\u001b[0m\u001b[0m\n\u001b[0;32m     17\u001b[0m     \u001b[1;32mif\u001b[0m \u001b[0mresponse\u001b[0m\u001b[1;33m.\u001b[0m\u001b[0mstatus\u001b[0m\u001b[1;33m.\u001b[0m\u001b[0mcode\u001b[0m \u001b[1;33m!=\u001b[0m \u001b[0mstatus_code_pb2\u001b[0m\u001b[1;33m.\u001b[0m\u001b[0mSUCCESS\u001b[0m\u001b[1;33m:\u001b[0m\u001b[1;33m\u001b[0m\u001b[1;33m\u001b[0m\u001b[0m\n\u001b[1;32m---> 18\u001b[1;33m         \u001b[1;32mraise\u001b[0m \u001b[0mException\u001b[0m\u001b[1;33m(\u001b[0m\u001b[1;34m\"Request failed, status code: \"\u001b[0m \u001b[1;33m+\u001b[0m \u001b[0mstr\u001b[0m\u001b[1;33m(\u001b[0m\u001b[0mresponse\u001b[0m\u001b[1;33m.\u001b[0m\u001b[0mstatus\u001b[0m\u001b[1;33m.\u001b[0m\u001b[0mcode\u001b[0m\u001b[1;33m)\u001b[0m\u001b[1;33m)\u001b[0m\u001b[1;33m\u001b[0m\u001b[1;33m\u001b[0m\u001b[0m\n\u001b[0m\u001b[0;32m     19\u001b[0m \u001b[1;33m\u001b[0m\u001b[0m\n\u001b[0;32m     20\u001b[0m     \u001b[0mtemp\u001b[0m \u001b[1;33m=\u001b[0m \u001b[1;33m[\u001b[0m\u001b[1;33m[\u001b[0m\u001b[0mconcept\u001b[0m\u001b[1;33m.\u001b[0m\u001b[0mname\u001b[0m\u001b[1;33m,\u001b[0m \u001b[0mconcept\u001b[0m\u001b[1;33m.\u001b[0m\u001b[0mvalue\u001b[0m\u001b[1;33m]\u001b[0m \u001b[1;32mfor\u001b[0m \u001b[0mconcept\u001b[0m \u001b[1;32min\u001b[0m \u001b[0mresponse\u001b[0m\u001b[1;33m.\u001b[0m\u001b[0moutputs\u001b[0m\u001b[1;33m[\u001b[0m\u001b[1;36m0\u001b[0m\u001b[1;33m]\u001b[0m\u001b[1;33m.\u001b[0m\u001b[0mdata\u001b[0m\u001b[1;33m.\u001b[0m\u001b[0mconcepts\u001b[0m\u001b[1;33m]\u001b[0m\u001b[1;33m\u001b[0m\u001b[1;33m\u001b[0m\u001b[0m\n",
      "\u001b[1;31mException\u001b[0m: Request failed, status code: 10020"
     ]
    }
   ],
   "source": [
    "result = pd.DataFrame(np.chararray((0,40)))\n",
    "\n",
    "for i in range(0, 10000):\n",
    "    time.sleep(0.102)\n",
    "    number = '{0:05}'.format(i)\n",
    "    print('Currently at {}'.format(i))\n",
    "    try:\n",
    "        food = define_food(number, dir)\n",
    "    except:\n",
    "        food = [0 for x in range(0,40)]\n",
    "\n",
    "    temp = pd.DataFrame(define_food(number, dir))\n",
    "    \n",
    "    result = pd.concat((result, temp.transpose()))\n",
    "\n",
    "result.to_csv('classification2.csv', header = False, index = False)"
   ]
  },
  {
   "cell_type": "code",
   "execution_count": 22,
   "metadata": {},
   "outputs": [],
   "source": [
    "result.to_csv('classification.csv', header = False, index = False)"
   ]
  },
  {
   "cell_type": "code",
   "execution_count": 122,
   "metadata": {},
   "outputs": [
    {
     "output_type": "stream",
     "name": "stdout",
     "text": [
      "           0          1          2        3          4       5          6   \\\n0        fish    seafood  vegetable    water       herb   grass   samphire   \n0        cake      sweet     pastry      pie      bread  cookie      candy   \n0        cake     cookie  chocolate   pastry      cream   sweet      candy   \n0       sweet      bread      wheat     cake     pastry  cereal  chocolate   \n0       sauce       meat      sweet  chicken  vegetable  tomato       pork   \n..        ...        ...        ...      ...        ...     ...        ...   \n0   cranberry  blueberry  raspberry    lemon  chocolate   sweet     almond   \n0   chocolate     cookie     muffin    sweet     pastry    cake  blueberry   \n0       sweet    sausage      bread     meat     pastry  cookie       cake   \n0       pizza      salad     cheese  avocado   zucchini   onion      bacon   \n0       water        tea      candy      ice      sweet    cake     tongue   \n\n            7           8          9              10             11  \\\n0         nori   asparagus      laver            eel           hash   \n0        cream      cheese  chocolate          crust     corn bread   \n0          pie       bread     butter          goody  dairy product   \n0   liver pate        pate     cookie          toast          cream   \n0         beef        cake      bread         cheese         pastry   \n..         ...         ...        ...            ...            ...   \n0         cake      pastry        nut         banana         cookie   \n0       banana       goody     raisin  raisin muffin        pumpkin   \n0        candy        pork    churros          wheat      chocolate   \n0      chicken      squash     tomato         pepper    cauliflower   \n0         rose  strawberry       bird           fish            gem   \n\n             12           13           14          15             16  \\\n0        aonori    drumstick        kombu       trout           pike   \n0     vegetable    fruitcake        goody        meat    sponge cake   \n0         flour  gingerbread      coconut    cinnamon  whipped cream   \n0     buckwheat       spread   horse gram        herb           hash   \n0       sausage        bacon        pasta         pie         cookie   \n..          ...          ...          ...         ...            ...   \n0         berry      pumpkin  cranberries       bread         cherry   \n0           nut      oatmeal    cranberry       bread       zucchini   \n0   hot dog bun         beef        flour     hot dog     breadstick   \n0        fennel        sweet     cucumber      potato         garlic   \n0         mochi         wine      gelatin  watermelon          jelly   \n\n            17                18             19  \n0         guar              salt    salted fish  \n0        torte       carrot cake          lemon  \n0   cheesecake           cracker  peanut butter  \n0        flour            hummus           bran  \n0    spaghetti             pizza     meat sauce  \n..         ...               ...            ...  \n0          oat        blackberry         orange  \n0        dough  blueberry muffin          apple  \n0          bun         bratwurst        pumpkin  \n0        honey            orange          basil  \n0       turkey              meat          grass  \n\n[88 rows x 20 columns]\n"
     ]
    }
   ],
   "source": [
    "print(result)"
   ]
  },
  {
   "cell_type": "code",
   "execution_count": null,
   "metadata": {},
   "outputs": [],
   "source": [
    "import csv\n",
    "from google.protobuf.struct_pb2 import Struct\n",
    "import time\n",
    "\n",
    "from clarifai_grpc.grpc.api import service_pb2_grpc, service_pb2, resources_pb2\n",
    "from clarifai_grpc.grpc.api.status import status_code_pb2\n",
    "from clarifai_grpc.channel.clarifai_channel import ClarifaiChannel\n",
    "\n",
    "channel = ClarifaiChannel.get_insecure_grpc_channel()\n",
    "\n",
    "stub = service_pb2_grpc.V2Stub(channel)\n",
    "\n",
    "tic = time.time()\n",
    "\n",
    "file_address = 'PATH_TO_CSV_FILE'\n",
    "\n",
    "metadata = (('authorization', 'Key 0bec95f3015f4a26b5edd2cb62a4fdc6'),)\n",
    "\n",
    "\n",
    "with open(file_address, mode='r') as csv_file:\n",
    "    csv_reader = csv.DictReader(csv_file)\n",
    "    line_count = 0\n",
    "    inputs = []\n",
    "    count = 0\n",
    "    for row in csv_reader:\n",
    "        if line_count == 0:\n",
    "            line_count += 1\n",
    "        input_metadata = Struct()\n",
    "\n",
    "\n",
    "\n",
    "        ## You can update as many metadatafields as you and name the work {{metadata_fieldx}} to whatever you need\n",
    "\n",
    "        input_metadata.update(\n",
    "            {\"metadata_field1\": row[\"field1\"], \"metadata_field2\": row[\"field2\"], \"metadata_field3\": row[\"field3\"],\n",
    "             })\n",
    "\n",
    "        inputs.append(\n",
    "            resources_pb2.Input(\n",
    "                ### You can replace id below with one of the values from your csv file or you can delete this\n",
    "                ###option\n",
    "                model_id='bd367be194cf45149e75f01d59f77ba7',\n",
    "                data=resources_pb2.Data(\n",
    "                    image=resources_pb2.Image(base64=file_bytes),\n",
    "                    metadata=input_metadata\n",
    "                )\n",
    "            )\n",
    "        )\n",
    "        if len(inputs) == 32:\n",
    "            post_input_results_response = stub.PostInputs(\n",
    "                service_pb2.PostInputsRequest(inputs=inputs),\n",
    "                metadata=metadata\n",
    "            )\n",
    "            inputs = []\n",
    "        count += 1\n",
    "        if count % 10000 == 0:\n",
    "            time.sleep(1)\n",
    "        print(count, ' batches of 32 processed')\n",
    "        # print(32 * count, 'images processed\\n\\n')\n",
    "\n",
    "toc = time.time()\n",
    "\n",
    "hours, rem = divmod(toc - tic, 3600)\n",
    "minutes, seconds = divmod(rem, 60)\n",
    "print(\"{:0>2}:{:0>2}:{:05.2f}\".format(int(hours), int(minutes), seconds))"
   ]
  }
 ]
}