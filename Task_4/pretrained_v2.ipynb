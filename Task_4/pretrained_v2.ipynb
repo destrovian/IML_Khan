{
 "cells": [
  {
   "cell_type": "code",
   "execution_count": 1,
   "metadata": {
    "collapsed": true
   },
   "outputs": [],
   "source": [
    "from tensorflow.keras.applications.xception import Xception\n",
    "from tensorflow.keras.preprocessing import image\n",
    "from tensorflow.keras.applications.vgg16 import preprocess_input\n",
    "import numpy as np"
   ]
  },
  {
   "cell_type": "code",
   "execution_count": 5,
   "metadata": {},
   "outputs": [],
   "source": [
    "model = Xception(weights='imagenet', include_top=False)\n"
   ]
  },
  {
   "cell_type": "code",
   "execution_count": 6,
   "outputs": [],
   "source": [
    "def get_features(ID):\n",
    "    img_path = 'food_porn/food/' + ID + '.jpg'\n",
    "    img = image.load_img(img_path, target_size=(299, 299))\n",
    "    x = image.img_to_array(img)\n",
    "    x = np.expand_dims(x, axis=0)\n",
    "    x = preprocess_input(x)\n",
    "    features = np.array(model.predict(x))\n",
    "    return features"
   ],
   "metadata": {
    "collapsed": false,
    "pycharm": {
     "name": "#%%\n"
    }
   }
  },
  {
   "cell_type": "code",
   "execution_count": 7,
   "metadata": {},
   "outputs": [],
   "source": [
    "def all_features(MIN_ID, MAX_ID):\n",
    "    if 0 <= MIN_ID < MAX_ID <= 10000:\n",
    "        stacked_features = get_features('{0:05}'.format(MIN_ID))\n",
    "\n",
    "        for i in range(MIN_ID + 1, MAX_ID):\n",
    "            temp_features = get_features('{0:05}'.format(i))\n",
    "            stacked_features = np.concatenate((stacked_features, temp_features))\n",
    "        \n",
    "        return stacked_features\n",
    "        \n",
    "    else: \n",
    "        raise Exception(\"Given minimum ID ( \" +str(MIN_ID)+ \" ) and maximum ID ( \" + str(MAX_ID) + \" )  are invalid.\")"
   ]
  },
  {
   "cell_type": "code",
   "execution_count": 10,
   "metadata": {
    "tags": []
   },
   "outputs": [
    {
     "output_type": "stream",
     "name": "stdout",
     "text": [
      "(50, 10, 10, 2048)\n40960144\n"
     ]
    }
   ],
   "source": [
    "temp = all_features(0,50)\n",
    "print(temp.shape)\n",
    "print(temp.__sizeof__())"
   ]
  },
  {
   "cell_type": "code",
   "execution_count": null,
   "metadata": {},
   "outputs": [],
   "source": [
    "# Some test to better understand feature shape\n",
    "print(features1.shape)\n",
    "stacked_features = np.concatenate((features1, features2))\n",
    "stacked_features = np.concatenate((stacked_features, features3))\n",
    "print(stacked_features.shape)\n",
    "print(stacked_features[2].shape)\n",
    "\n",
    "\n",
    "comparison = features3 == stacked_features[2]\n",
    "equal_arrays = comparison.all()\n",
    "\n",
    "print(equal_arrays)"
   ]
  },
  {
   "cell_type": "code",
   "execution_count": 31,
   "outputs": [
    {
     "name": "stdout",
     "output_type": "stream",
     "text": [
      "WARNING:tensorflow:7 out of the last 11 calls to <function Model.make_predict_function.<locals>.predict_function at 0x0000022907388820> triggered tf.function retracing. Tracing is expensive and the excessive number of tracings could be due to (1) creating @tf.function repeatedly in a loop, (2) passing tensors with different shapes, (3) passing Python objects instead of tensors. For (1), please define your @tf.function outside of the loop. For (2), @tf.function has experimental_relax_shapes=True option that relaxes argument shapes that can avoid unnecessary retracing. For (3), please refer to https://www.tensorflow.org/tutorials/customization/performance#python_or_tensor_args and https://www.tensorflow.org/api_docs/python/tf/function for  more details.\n"
     ]
    }
   ],
   "source": [
    "\n",
    "features1 = get_features('00001')\n",
    "features2 = get_features('00049')\n",
    "features3 = get_features('00003')"
   ],
   "metadata": {
    "collapsed": false,
    "pycharm": {
     "name": "#%%\n"
    }
   }
  },
  {
   "cell_type": "code",
   "execution_count": 32,
   "outputs": [
    {
     "name": "stdout",
     "output_type": "stream",
     "text": [
      "image B is this far away: 3019.4539\n",
      "image C is this far away: 3397.2256\n"
     ]
    }
   ],
   "source": [
    "print(\"image B is this far away:\", np.linalg.norm(features1-features2))\n",
    "print(\"image C is this far away:\", np.linalg.norm(features1-features3))"
   ],
   "metadata": {
    "collapsed": false,
    "pycharm": {
     "name": "#%%\n"
    }
   }
  }
 ],
 "metadata": {
  "kernelspec": {
   "name": "python385jvsc74a57bd0b3ba2566441a7c06988d0923437866b63cedc61552a5af99d1f4fb67d367b25f",
   "display_name": "Python 3.8.5 64-bit ('base': conda)"
  },
  "language_info": {
   "codemirror_mode": {
    "name": "ipython",
    "version": 2
   },
   "file_extension": ".py",
   "mimetype": "text/x-python",
   "name": "python",
   "nbconvert_exporter": "python",
   "pygments_lexer": "ipython2",
   "version": "3.8.5"
  }
 },
 "nbformat": 4,
 "nbformat_minor": 0
}