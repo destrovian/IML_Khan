{
 "metadata": {
  "language_info": {
   "codemirror_mode": {
    "name": "ipython",
    "version": 3
   },
   "file_extension": ".py",
   "mimetype": "text/x-python",
   "name": "python",
   "nbconvert_exporter": "python",
   "pygments_lexer": "ipython3",
   "version": "3.8.5"
  },
  "orig_nbformat": 2,
  "kernelspec": {
   "name": "python385jvsc74a57bd0b3ba2566441a7c06988d0923437866b63cedc61552a5af99d1f4fb67d367b25f",
   "display_name": "Python 3.8.5 64-bit ('base': conda)"
  }
 },
 "nbformat": 4,
 "nbformat_minor": 2,
 "cells": [
  {
   "cell_type": "code",
   "execution_count": 1,
   "metadata": {},
   "outputs": [],
   "source": [
    "import keras.losses\n",
    "import tensorflow as tf\n",
    "from keras.applications.vgg16 import VGG16\n",
    "from keras.applications.inception_resnet_v2 import InceptionResNetV2\n",
    "from keras.preprocessing import image\n",
    "\n",
    "#from tensorflow.keras.applications.vgg16 import preprocess_input\n",
    "from keras.applications.xception import preprocess_input\n",
    "\n",
    "from keras.applications.vgg16 import decode_predictions\n",
    "from keras.preprocessing.image import img_to_array\n",
    "from keras import layers, Model\n",
    "from keras.regularizers import l2\n",
    "import numpy as np\n",
    "import pandas as pd\n",
    "from keras.layers import Dense, BatchNormalization, Dropout\n",
    "from keras.models import Sequential, Input, load_model\n",
    "from sklearn.utils import class_weight\n",
    "import datetime\n",
    "import zipfile"
   ]
  },
  {
   "cell_type": "code",
   "execution_count": 2,
   "metadata": {},
   "outputs": [
    {
     "output_type": "execute_result",
     "data": {
      "text/plain": [
       "' with zipfile.ZipFile(\"food.zip\",\"r\") as zip_ref:\\n    zip_ref.extractall(\"food_porn\") '"
      ]
     },
     "metadata": {},
     "execution_count": 2
    }
   ],
   "source": [
    "train_triplets = pd.read_csv(\"train_triplets.txt\", sep=' ', header=None, dtype=str)\n",
    "test_triplets = pd.read_csv(\"test_triplets.txt\", sep=' ', header=None, dtype=str)\n",
    "\n",
    "\"\"\" with zipfile.ZipFile(\"food.zip\",\"r\") as zip_ref:\n",
    "    zip_ref.extractall(\"food_porn\") \"\"\""
   ]
  },
  {
   "cell_type": "code",
   "execution_count": 7,
   "metadata": {},
   "outputs": [
    {
     "output_type": "error",
     "ename": "TypeError",
     "evalue": "'module' object is not callable",
     "traceback": [
      "\u001b[1;31m---------------------------------------------------------------------------\u001b[0m",
      "\u001b[1;31mTypeError\u001b[0m                                 Traceback (most recent call last)",
      "\u001b[1;32m<ipython-input-7-9b3b453aa59d>\u001b[0m in \u001b[0;36m<module>\u001b[1;34m\u001b[0m\n\u001b[1;32m----> 1\u001b[1;33m \u001b[1;32mwith\u001b[0m \u001b[0mzipp\u001b[0m\u001b[1;33m.\u001b[0m\u001b[0mzipfile\u001b[0m\u001b[1;33m(\u001b[0m\u001b[1;34m\"food.zip\"\u001b[0m\u001b[1;33m,\u001b[0m\u001b[1;34m\"r\"\u001b[0m\u001b[1;33m)\u001b[0m \u001b[1;32mas\u001b[0m \u001b[0mzip_ref\u001b[0m\u001b[1;33m:\u001b[0m\u001b[1;33m\u001b[0m\u001b[1;33m\u001b[0m\u001b[0m\n\u001b[0m\u001b[0;32m      2\u001b[0m     \u001b[0mzip_ref\u001b[0m\u001b[1;33m.\u001b[0m\u001b[0mextractall\u001b[0m\u001b[1;33m(\u001b[0m\u001b[1;34m\"food_porn\"\u001b[0m\u001b[1;33m)\u001b[0m\u001b[1;33m\u001b[0m\u001b[1;33m\u001b[0m\u001b[0m\n",
      "\u001b[1;31mTypeError\u001b[0m: 'module' object is not callable"
     ]
    }
   ],
   "source": [
    "\n",
    "with zipp.zipfile(\"food.zip\",\"r\") as zip_ref:\n",
    "    zip_ref.extractall(\"food_porn\")"
   ]
  },
  {
   "cell_type": "code",
   "execution_count": 3,
   "metadata": {},
   "outputs": [],
   "source": [
    "def append_ext(index):\n",
    "    return index + '.jpg'"
   ]
  },
  {
   "cell_type": "code",
   "execution_count": 4,
   "metadata": {},
   "outputs": [],
   "source": [
    "ONE_SET_SIZE = 59515\n",
    "ABC = ['A', 'B', 'C']\n",
    "\n",
    "train_triplets_jpg = train_triplets.apply(append_ext)\n",
    "#data_y1 = pd.DataFrame(np.ones((ONE_SET_SIZE)), dtype='str', columns=['label'])\n",
    "#train_triplets_jpg = pd.concat([train_triplets_jpg, data_y1], axis=1)\n",
    "train_triplets_jpg = train_triplets_jpg.rename(columns={0:'A', 1:'B', 2:'C'}, inplace=False)\n",
    "\n",
    "test_triplets_jpg = test_triplets.apply(append_ext)\n",
    "test_triplets_jpg = test_triplets_jpg.rename(columns={0:'A', 1:'B', 2:'C'}, inplace=False)"
   ]
  },
  {
   "cell_type": "code",
   "execution_count": 5,
   "metadata": {},
   "outputs": [
    {
     "output_type": "stream",
     "name": "stdout",
     "text": [
      "Wall time: 99 ms\n"
     ]
    },
    {
     "output_type": "execute_result",
     "data": {
      "text/plain": [
       "' # This only shuffels the set which might be unneccessary since ImageGen also shuffles. Still for redundanacy. Costs only 70ms on my machiene.\\ndata_nn_x = data_nn_x.sample(frac=1).reset_index(drop=True) '"
      ]
     },
     "metadata": {},
     "execution_count": 5
    }
   ],
   "source": [
    "%%time\n",
    "\n",
    "\n",
    "# There are 4 different permutations of ABC that we can know the answer of. (CAB and CBA we don't know)\n",
    "ONE_SET_SIZE = 59515\n",
    "\n",
    "#create the base dataset with the 2 sets of labels\n",
    "data_y1 = pd.DataFrame(np.ones((ONE_SET_SIZE * 2,1)), dtype='str', columns=['label'])\n",
    "data_y0 = pd.DataFrame(np.zeros((ONE_SET_SIZE * 2,1)), dtype='str', columns=['label'])\n",
    "\n",
    "#create the inverse dataset and a set where B is connected to A (and inv)\n",
    "\n",
    "# One needs 3 different assignments since the arrays would be linked otherwise.\n",
    "ACB0 = train_triplets_jpg[['A', 'C', 'B']].copy()\n",
    "BAC1 = train_triplets_jpg[['B', 'A', 'C']].copy()\n",
    "BCA0 = train_triplets_jpg[['B', 'C', 'A']].copy()\n",
    "\n",
    "ACB0 = ACB0.rename(columns={'C':'B', 'B':'C'}, inplace=False)\n",
    "BAC1 = BAC1.rename(columns={'B':'A', 'A':'B'}, inplace=False)\n",
    "BCA0 = BCA0.rename(columns={'B':'A', 'C':'B', 'A':'C'}, inplace=False)\n",
    "\n",
    "id_fin = pd.concat((train_triplets_jpg, BAC1, ACB0, BCA0),axis=0, ignore_index=True)\n",
    "labels = pd.concat((data_y1,data_y0),axis=0, ignore_index=True)\n",
    "\n",
    "data_nn_x = pd.concat([id_fin,labels], join='outer', axis=1)\n",
    "\n",
    "\"\"\" # This only shuffels the set which might be unneccessary since ImageGen also shuffles. Still for redundanacy. Costs only 70ms on my machiene.\n",
    "data_nn_x = data_nn_x.sample(frac=1).reset_index(drop=True) \"\"\" "
   ]
  },
  {
   "cell_type": "code",
   "execution_count": 5,
   "metadata": {},
   "outputs": [],
   "source": []
  },
  {
   "cell_type": "code",
   "execution_count": 6,
   "metadata": {},
   "outputs": [],
   "source": [
    "#print(data_nn_x.loc[3,'label'].dtype)"
   ]
  },
  {
   "cell_type": "code",
   "execution_count": 6,
   "metadata": {},
   "outputs": [],
   "source": [
    "batch_size = 48\n",
    "pixels = 144"
   ]
  },
  {
   "cell_type": "code",
   "execution_count": 7,
   "metadata": {},
   "outputs": [],
   "source": [
    "datagen=image.ImageDataGenerator(\n",
    "    rescale=1./255.,\n",
    "    validation_split=0.2,\n",
    "    preprocessing_function=preprocess_input,\n",
    "    shear_range=0.2,\n",
    "    zoom_range=0.2,\n",
    "    horizontal_flip=True\n",
    "    )\n",
    "\n",
    "test_datagen=image.ImageDataGenerator(\n",
    "    rescale=1./255.,\n",
    "    preprocessing_function=preprocess_input,\n",
    "    horizontal_flip=True\n",
    "    )"
   ]
  },
  {
   "cell_type": "code",
   "execution_count": 8,
   "metadata": {},
   "outputs": [],
   "source": [
    "def generate_generator_multiple(generator, triplet_file, batch_size, pixels, subset):\n",
    "\n",
    "    if subset == 'training':\n",
    "        shuffle = True\n",
    "        y_col = 'label'\n",
    "        class_mode = 'binary'\n",
    "    elif subset == 'validation':\n",
    "        shuffle = False\n",
    "        y_col = 'label'\n",
    "        class_mode = 'binary'\n",
    "    elif subset == None:\n",
    "        shuffle = False\n",
    "        y_col = None\n",
    "        class_mode = 'input'\n",
    "    else: raise Exception('Subset needs to be either training, validation or None.')\n",
    "\n",
    "    generator_A = datagen.flow_from_dataframe(\n",
    "        triplet_file,\n",
    "        directory='./food_porn/food',\n",
    "        x_col= 'A',\n",
    "        y_col=y_col,\n",
    "        subset=subset ,\n",
    "        shuffle=shuffle,\n",
    "        class_mode=class_mode,\n",
    "        target_size=(pixels, pixels),\n",
    "        batch_size=batch_size,\n",
    "        seed=69,\n",
    "        )\n",
    "\n",
    "    generator_B = datagen.flow_from_dataframe(\n",
    "        triplet_file,\n",
    "        directory='./food_porn/food',\n",
    "        x_col= 'B',\n",
    "        y_col=y_col,\n",
    "        subset=subset,\n",
    "        shuffle=shuffle,\n",
    "        class_mode=class_mode,\n",
    "        target_size=(pixels, pixels),\n",
    "        batch_size=batch_size,\n",
    "        seed=69,\n",
    "        )\n",
    "\n",
    "\n",
    "    generator_C = datagen.flow_from_dataframe(\n",
    "        triplet_file,\n",
    "        directory='./food_porn/food',\n",
    "        x_col= 'C',\n",
    "        y_col=y_col,\n",
    "        subset=subset,\n",
    "        shuffle=shuffle,\n",
    "        class_mode=class_mode,\n",
    "        target_size=(pixels, pixels),\n",
    "        batch_size=batch_size,\n",
    "        seed=69,\n",
    "    )\n",
    "\n",
    "    while True:\n",
    "            X1i = generator_A.next()\n",
    "            X2i = generator_B.next()\n",
    "            X3i = generator_C.next()\n",
    "\n",
    "            yield [X1i[0], X2i[0], X3i[0]], X3i[1]  #Yield all images and their mutual label"
   ]
  },
  {
   "cell_type": "code",
   "execution_count": 9,
   "metadata": {},
   "outputs": [],
   "source": [
    "input_generator = generate_generator_multiple(generator=datagen,\n",
    "                                            triplet_file=data_nn_x,\n",
    "                                            batch_size=batch_size,\n",
    "                                            pixels=pixels,\n",
    "                                            subset='training')       \n",
    "     \n",
    "validation_generator = generate_generator_multiple(generator=datagen,\n",
    "                                            triplet_file=data_nn_x,\n",
    "                                            batch_size=batch_size,\n",
    "                                            pixels=pixels,\n",
    "                                            subset='validation') \n",
    "\n",
    "test_generator = generate_generator_multiple(generator=test_datagen,\n",
    "                                            triplet_file=test_triplets_jpg,\n",
    "                                            batch_size=batch_size,\n",
    "                                            pixels=pixels,\n",
    "                                            subset=None)"
   ]
  },
  {
   "cell_type": "code",
   "execution_count": 46,
   "metadata": {},
   "outputs": [
    {
     "output_type": "stream",
     "name": "stdout",
     "text": [
      "Found 190448 validated image filenames belonging to 2 classes.\n"
     ]
    }
   ],
   "source": [
    "i = 0\n",
    "\n",
    "for batch in datagen.flow_from_dataframe(\n",
    "        data_nn_x,\n",
    "        directory='./food_porn/food',\n",
    "        x_col= 'A',\n",
    "        y_col='label',\n",
    "        subset='training' ,\n",
    "        shuffle=False,\n",
    "        class_mode='binary',\n",
    "        target_size=(144, 144),\n",
    "        batch_size=1,\n",
    "        seed=69,\n",
    "        save_to_dir='./flow/A'\n",
    "        ):\n",
    "\n",
    "    i+=1\n",
    "    if i> 5:\n",
    "        break\n"
   ]
  },
  {
   "cell_type": "code",
   "execution_count": 47,
   "metadata": {},
   "outputs": [
    {
     "output_type": "stream",
     "name": "stdout",
     "text": [
      "Found 190448 validated image filenames belonging to 2 classes.\n"
     ]
    }
   ],
   "source": [
    "i= 0\n",
    "\n",
    "for batch in datagen.flow_from_dataframe(\n",
    "        data_nn_x,\n",
    "        directory='./food_porn/food',\n",
    "        x_col= 'B',\n",
    "        y_col='label',\n",
    "        subset='training' ,\n",
    "        shuffle=False,\n",
    "        class_mode='binary',\n",
    "        target_size=(144, 144),\n",
    "        batch_size=1,\n",
    "        seed=69,\n",
    "        save_to_dir='./flow/B'\n",
    "        ):\n",
    "\n",
    "    i+=1\n",
    "    if i> 5:\n",
    "        break\n"
   ]
  },
  {
   "cell_type": "code",
   "execution_count": 10,
   "metadata": {},
   "outputs": [],
   "source": []
  },
  {
   "cell_type": "code",
   "execution_count": 10,
   "metadata": {},
   "outputs": [],
   "source": []
  },
  {
   "cell_type": "code",
   "execution_count": 29,
   "metadata": {},
   "outputs": [
    {
     "output_type": "execute_result",
     "data": {
      "text/plain": [
       "' Comment this when uploading to euler. '"
      ]
     },
     "metadata": {},
     "execution_count": 29
    }
   ],
   "source": [
    "cnn = InceptionResNetV2(weights='imagenet', include_top=False, pooling='avg')\n",
    "\n",
    "\"\"\" Comment this when uploading to euler. \"\"\""
   ]
  },
  {
   "cell_type": "code",
   "execution_count": 10,
   "metadata": {},
   "outputs": [],
   "source": [
    "cnn.save('ResNetV2.h5')  # creates a HDF5 file 'my_model.h5'"
   ]
  },
  {
   "cell_type": "code",
   "execution_count": null,
   "metadata": {},
   "outputs": [],
   "source": [
    "del cnn"
   ]
  },
  {
   "cell_type": "code",
   "execution_count": 5,
   "metadata": {},
   "outputs": [],
   "source": [
    "import zipp"
   ]
  },
  {
   "cell_type": "code",
   "execution_count": null,
   "metadata": {},
   "outputs": [],
   "source": []
  },
  {
   "cell_type": "code",
   "execution_count": 4,
   "metadata": {},
   "outputs": [
    {
     "output_type": "error",
     "ename": "NameError",
     "evalue": "name 'cnn' is not defined",
     "traceback": [
      "\u001b[1;31m---------------------------------------------------------------------------\u001b[0m",
      "\u001b[1;31mNameError\u001b[0m                                 Traceback (most recent call last)",
      "\u001b[1;32m<ipython-input-4-48120ccf6994>\u001b[0m in \u001b[0;36m<module>\u001b[1;34m\u001b[0m\n\u001b[1;32m----> 1\u001b[1;33m \u001b[0mcnn\u001b[0m\u001b[1;33m.\u001b[0m\u001b[0msummary\u001b[0m\u001b[1;33m(\u001b[0m\u001b[1;33m)\u001b[0m\u001b[1;33m\u001b[0m\u001b[1;33m\u001b[0m\u001b[0m\n\u001b[0m",
      "\u001b[1;31mNameError\u001b[0m: name 'cnn' is not defined"
     ]
    }
   ],
   "source": [
    "#cnn.summary()"
   ]
  },
  {
   "cell_type": "code",
   "execution_count": 13,
   "metadata": {},
   "outputs": [
    {
     "output_type": "stream",
     "name": "stdout",
     "text": [
      "Model: \"model_1\"\n__________________________________________________________________________________________________\nLayer (type)                    Output Shape         Param #     Connected to                     \n==================================================================================================\ninput_5 (InputLayer)            [(None, 144, 144, 3) 0                                            \n__________________________________________________________________________________________________\ninput_6 (InputLayer)            [(None, 144, 144, 3) 0                                            \n__________________________________________________________________________________________________\ninput_7 (InputLayer)            [(None, 144, 144, 3) 0                                            \n__________________________________________________________________________________________________\ninception_resnet_v2 (Functional (None, 1536)         54336736    input_5[0][0]                    \n                                                                 input_6[0][0]                    \n                                                                 input_7[0][0]                    \n__________________________________________________________________________________________________\nconcatenate_1 (Concatenate)     (None, 4608)         0           inception_resnet_v2[0][0]        \n                                                                 inception_resnet_v2[1][0]        \n                                                                 inception_resnet_v2[2][0]        \n__________________________________________________________________________________________________\ndropout_2 (Dropout)             (None, 4608)         0           concatenate_1[0][0]              \n__________________________________________________________________________________________________\ndense_2 (Dense)                 (None, 1024)         4719616     dropout_2[0][0]                  \n__________________________________________________________________________________________________\ndropout_3 (Dropout)             (None, 1024)         0           dense_2[0][0]                    \n__________________________________________________________________________________________________\ndense_3 (Dense)                 (None, 1)            1025        dropout_3[0][0]                  \n==================================================================================================\nTotal params: 59,057,377\nTrainable params: 7,917,057\nNon-trainable params: 51,140,320\n__________________________________________________________________________________________________\n"
     ]
    }
   ],
   "source": [
    "# Multiple inputs\n",
    "in1 = layers.Input(shape=(pixels,pixels,3))\n",
    "in2 = layers.Input(shape=(pixels,pixels,3))\n",
    "in3 = layers.Input(shape=(pixels,pixels,3))\n",
    "\n",
    "# CNN output\n",
    "#cnn = applications.xception.Xception(include_top=False)\n",
    "cnn = InceptionResNetV2(weights='imagenet', include_top=False, pooling='avg')\n",
    "#cnn = load_model('ResNetV2')\n",
    "\n",
    "#cnn.summary()\n",
    "\n",
    "for layer in cnn.layers[:-4]:\n",
    "    layer.trainable = False\n",
    "\n",
    "out1 = cnn(in1)\n",
    "out2 = cnn(in2)\n",
    "out3 = cnn(in3)\n",
    "\n",
    "# Concatenating the final output\n",
    "out = layers.Concatenate(axis=-1)([out1, out2, out3])\n",
    "out = Dropout(0.5)(out)\n",
    "combined = Dense(units = 1024, activation='relu', kernel_regularizer=l2(0.003))(out)\n",
    "combined = Dropout(0.5)(combined)\n",
    "combined = Dense(units = 1, activation='sigmoid')(combined)\n",
    "\n",
    "# Creating the model\n",
    "model = Model(inputs=[in1, in2, in3], outputs=combined)\n",
    "model.summary()"
   ]
  },
  {
   "cell_type": "code",
   "execution_count": 11,
   "metadata": {},
   "outputs": [],
   "source": [
    "val_step = np.floor(59515*4*0.2/batch_size)\n",
    "ep_step = np.floor(59515*4*0.8/batch_size)"
   ]
  },
  {
   "cell_type": "code",
   "execution_count": 12,
   "outputs": [
    {
     "output_type": "stream",
     "name": "stdout",
     "text": [
      "Found 190448 validated image filenames belonging to 2 classes.\n",
      "Found 190448 validated image filenames belonging to 2 classes.\n",
      "Found 190448 validated image filenames belonging to 2 classes.\n",
      "Epoch 1/64\n",
      "200/200 [==============================] - ETA: 0s - loss: 0.7122 - accuracy: 0.5822Found 47612 validated image filenames belonging to 2 classes.\n",
      "Found 47612 validated image filenames belonging to 2 classes.\n",
      "Found 47612 validated image filenames belonging to 2 classes.\n",
      "200/200 [==============================] - 1158s 6s/step - loss: 0.7121 - accuracy: 0.5823 - val_loss: 0.9488 - val_accuracy: 0.0000e+00\n",
      "Epoch 2/64\n",
      "  4/200 [..............................] - ETA: 18:05 - loss: 0.6903 - accuracy: 0.6016"
     ]
    },
    {
     "output_type": "error",
     "ename": "KeyboardInterrupt",
     "evalue": "",
     "traceback": [
      "\u001b[1;31m---------------------------------------------------------------------------\u001b[0m",
      "\u001b[1;31mKeyboardInterrupt\u001b[0m                         Traceback (most recent call last)",
      "\u001b[1;32m<ipython-input-12-2595372e3e18>\u001b[0m in \u001b[0;36m<module>\u001b[1;34m\u001b[0m\n\u001b[0;32m      2\u001b[0m \u001b[1;33m\u001b[0m\u001b[0m\n\u001b[0;32m      3\u001b[0m \u001b[1;31m#fit the network to (for now the un-sparse matrix)\u001b[0m\u001b[1;33m\u001b[0m\u001b[1;33m\u001b[0m\u001b[1;33m\u001b[0m\u001b[0m\n\u001b[1;32m----> 4\u001b[1;33m model.fit(input_generator, validation_data=validation_generator, epochs= 64,\n\u001b[0m\u001b[0;32m      5\u001b[0m           \u001b[0mbatch_size\u001b[0m\u001b[1;33m=\u001b[0m\u001b[0mbatch_size\u001b[0m\u001b[1;33m,\u001b[0m \u001b[0mverbose\u001b[0m\u001b[1;33m=\u001b[0m\u001b[1;36m1\u001b[0m\u001b[1;33m,\u001b[0m \u001b[0msteps_per_epoch\u001b[0m \u001b[1;33m=\u001b[0m \u001b[1;36m200\u001b[0m\u001b[1;33m,\u001b[0m\u001b[1;33m\u001b[0m\u001b[1;33m\u001b[0m\u001b[0m\n\u001b[0;32m      6\u001b[0m           validation_steps= 10)\n",
      "\u001b[1;32mC:\\ProgramData\\Anaconda3\\lib\\site-packages\\tensorflow\\python\\keras\\engine\\training.py\u001b[0m in \u001b[0;36mfit\u001b[1;34m(self, x, y, batch_size, epochs, verbose, callbacks, validation_split, validation_data, shuffle, class_weight, sample_weight, initial_epoch, steps_per_epoch, validation_steps, validation_batch_size, validation_freq, max_queue_size, workers, use_multiprocessing)\u001b[0m\n\u001b[0;32m   1098\u001b[0m                 _r=1):\n\u001b[0;32m   1099\u001b[0m               \u001b[0mcallbacks\u001b[0m\u001b[1;33m.\u001b[0m\u001b[0mon_train_batch_begin\u001b[0m\u001b[1;33m(\u001b[0m\u001b[0mstep\u001b[0m\u001b[1;33m)\u001b[0m\u001b[1;33m\u001b[0m\u001b[1;33m\u001b[0m\u001b[0m\n\u001b[1;32m-> 1100\u001b[1;33m               \u001b[0mtmp_logs\u001b[0m \u001b[1;33m=\u001b[0m \u001b[0mself\u001b[0m\u001b[1;33m.\u001b[0m\u001b[0mtrain_function\u001b[0m\u001b[1;33m(\u001b[0m\u001b[0miterator\u001b[0m\u001b[1;33m)\u001b[0m\u001b[1;33m\u001b[0m\u001b[1;33m\u001b[0m\u001b[0m\n\u001b[0m\u001b[0;32m   1101\u001b[0m               \u001b[1;32mif\u001b[0m \u001b[0mdata_handler\u001b[0m\u001b[1;33m.\u001b[0m\u001b[0mshould_sync\u001b[0m\u001b[1;33m:\u001b[0m\u001b[1;33m\u001b[0m\u001b[1;33m\u001b[0m\u001b[0m\n\u001b[0;32m   1102\u001b[0m                 \u001b[0mcontext\u001b[0m\u001b[1;33m.\u001b[0m\u001b[0masync_wait\u001b[0m\u001b[1;33m(\u001b[0m\u001b[1;33m)\u001b[0m\u001b[1;33m\u001b[0m\u001b[1;33m\u001b[0m\u001b[0m\n",
      "\u001b[1;32mC:\\ProgramData\\Anaconda3\\lib\\site-packages\\tensorflow\\python\\eager\\def_function.py\u001b[0m in \u001b[0;36m__call__\u001b[1;34m(self, *args, **kwds)\u001b[0m\n\u001b[0;32m    826\u001b[0m     \u001b[0mtracing_count\u001b[0m \u001b[1;33m=\u001b[0m \u001b[0mself\u001b[0m\u001b[1;33m.\u001b[0m\u001b[0mexperimental_get_tracing_count\u001b[0m\u001b[1;33m(\u001b[0m\u001b[1;33m)\u001b[0m\u001b[1;33m\u001b[0m\u001b[1;33m\u001b[0m\u001b[0m\n\u001b[0;32m    827\u001b[0m     \u001b[1;32mwith\u001b[0m \u001b[0mtrace\u001b[0m\u001b[1;33m.\u001b[0m\u001b[0mTrace\u001b[0m\u001b[1;33m(\u001b[0m\u001b[0mself\u001b[0m\u001b[1;33m.\u001b[0m\u001b[0m_name\u001b[0m\u001b[1;33m)\u001b[0m \u001b[1;32mas\u001b[0m \u001b[0mtm\u001b[0m\u001b[1;33m:\u001b[0m\u001b[1;33m\u001b[0m\u001b[1;33m\u001b[0m\u001b[0m\n\u001b[1;32m--> 828\u001b[1;33m       \u001b[0mresult\u001b[0m \u001b[1;33m=\u001b[0m \u001b[0mself\u001b[0m\u001b[1;33m.\u001b[0m\u001b[0m_call\u001b[0m\u001b[1;33m(\u001b[0m\u001b[1;33m*\u001b[0m\u001b[0margs\u001b[0m\u001b[1;33m,\u001b[0m \u001b[1;33m**\u001b[0m\u001b[0mkwds\u001b[0m\u001b[1;33m)\u001b[0m\u001b[1;33m\u001b[0m\u001b[1;33m\u001b[0m\u001b[0m\n\u001b[0m\u001b[0;32m    829\u001b[0m       \u001b[0mcompiler\u001b[0m \u001b[1;33m=\u001b[0m \u001b[1;34m\"xla\"\u001b[0m \u001b[1;32mif\u001b[0m \u001b[0mself\u001b[0m\u001b[1;33m.\u001b[0m\u001b[0m_experimental_compile\u001b[0m \u001b[1;32melse\u001b[0m \u001b[1;34m\"nonXla\"\u001b[0m\u001b[1;33m\u001b[0m\u001b[1;33m\u001b[0m\u001b[0m\n\u001b[0;32m    830\u001b[0m       \u001b[0mnew_tracing_count\u001b[0m \u001b[1;33m=\u001b[0m \u001b[0mself\u001b[0m\u001b[1;33m.\u001b[0m\u001b[0mexperimental_get_tracing_count\u001b[0m\u001b[1;33m(\u001b[0m\u001b[1;33m)\u001b[0m\u001b[1;33m\u001b[0m\u001b[1;33m\u001b[0m\u001b[0m\n",
      "\u001b[1;32mC:\\ProgramData\\Anaconda3\\lib\\site-packages\\tensorflow\\python\\eager\\def_function.py\u001b[0m in \u001b[0;36m_call\u001b[1;34m(self, *args, **kwds)\u001b[0m\n\u001b[0;32m    853\u001b[0m       \u001b[1;31m# In this case we have created variables on the first call, so we run the\u001b[0m\u001b[1;33m\u001b[0m\u001b[1;33m\u001b[0m\u001b[1;33m\u001b[0m\u001b[0m\n\u001b[0;32m    854\u001b[0m       \u001b[1;31m# defunned version which is guaranteed to never create variables.\u001b[0m\u001b[1;33m\u001b[0m\u001b[1;33m\u001b[0m\u001b[1;33m\u001b[0m\u001b[0m\n\u001b[1;32m--> 855\u001b[1;33m       \u001b[1;32mreturn\u001b[0m \u001b[0mself\u001b[0m\u001b[1;33m.\u001b[0m\u001b[0m_stateless_fn\u001b[0m\u001b[1;33m(\u001b[0m\u001b[1;33m*\u001b[0m\u001b[0margs\u001b[0m\u001b[1;33m,\u001b[0m \u001b[1;33m**\u001b[0m\u001b[0mkwds\u001b[0m\u001b[1;33m)\u001b[0m  \u001b[1;31m# pylint: disable=not-callable\u001b[0m\u001b[1;33m\u001b[0m\u001b[1;33m\u001b[0m\u001b[0m\n\u001b[0m\u001b[0;32m    856\u001b[0m     \u001b[1;32melif\u001b[0m \u001b[0mself\u001b[0m\u001b[1;33m.\u001b[0m\u001b[0m_stateful_fn\u001b[0m \u001b[1;32mis\u001b[0m \u001b[1;32mnot\u001b[0m \u001b[1;32mNone\u001b[0m\u001b[1;33m:\u001b[0m\u001b[1;33m\u001b[0m\u001b[1;33m\u001b[0m\u001b[0m\n\u001b[0;32m    857\u001b[0m       \u001b[1;31m# Release the lock early so that multiple threads can perform the call\u001b[0m\u001b[1;33m\u001b[0m\u001b[1;33m\u001b[0m\u001b[1;33m\u001b[0m\u001b[0m\n",
      "\u001b[1;32mC:\\ProgramData\\Anaconda3\\lib\\site-packages\\tensorflow\\python\\eager\\function.py\u001b[0m in \u001b[0;36m__call__\u001b[1;34m(self, *args, **kwargs)\u001b[0m\n\u001b[0;32m   2940\u001b[0m       (graph_function,\n\u001b[0;32m   2941\u001b[0m        filtered_flat_args) = self._maybe_define_function(args, kwargs)\n\u001b[1;32m-> 2942\u001b[1;33m     return graph_function._call_flat(\n\u001b[0m\u001b[0;32m   2943\u001b[0m         filtered_flat_args, captured_inputs=graph_function.captured_inputs)  # pylint: disable=protected-access\n\u001b[0;32m   2944\u001b[0m \u001b[1;33m\u001b[0m\u001b[0m\n",
      "\u001b[1;32mC:\\ProgramData\\Anaconda3\\lib\\site-packages\\tensorflow\\python\\eager\\function.py\u001b[0m in \u001b[0;36m_call_flat\u001b[1;34m(self, args, captured_inputs, cancellation_manager)\u001b[0m\n\u001b[0;32m   1916\u001b[0m         and executing_eagerly):\n\u001b[0;32m   1917\u001b[0m       \u001b[1;31m# No tape is watching; skip to running the function.\u001b[0m\u001b[1;33m\u001b[0m\u001b[1;33m\u001b[0m\u001b[1;33m\u001b[0m\u001b[0m\n\u001b[1;32m-> 1918\u001b[1;33m       return self._build_call_outputs(self._inference_function.call(\n\u001b[0m\u001b[0;32m   1919\u001b[0m           ctx, args, cancellation_manager=cancellation_manager))\n\u001b[0;32m   1920\u001b[0m     forward_backward = self._select_forward_and_backward_functions(\n",
      "\u001b[1;32mC:\\ProgramData\\Anaconda3\\lib\\site-packages\\tensorflow\\python\\eager\\function.py\u001b[0m in \u001b[0;36mcall\u001b[1;34m(self, ctx, args, cancellation_manager)\u001b[0m\n\u001b[0;32m    553\u001b[0m       \u001b[1;32mwith\u001b[0m \u001b[0m_InterpolateFunctionError\u001b[0m\u001b[1;33m(\u001b[0m\u001b[0mself\u001b[0m\u001b[1;33m)\u001b[0m\u001b[1;33m:\u001b[0m\u001b[1;33m\u001b[0m\u001b[1;33m\u001b[0m\u001b[0m\n\u001b[0;32m    554\u001b[0m         \u001b[1;32mif\u001b[0m \u001b[0mcancellation_manager\u001b[0m \u001b[1;32mis\u001b[0m \u001b[1;32mNone\u001b[0m\u001b[1;33m:\u001b[0m\u001b[1;33m\u001b[0m\u001b[1;33m\u001b[0m\u001b[0m\n\u001b[1;32m--> 555\u001b[1;33m           outputs = execute.execute(\n\u001b[0m\u001b[0;32m    556\u001b[0m               \u001b[0mstr\u001b[0m\u001b[1;33m(\u001b[0m\u001b[0mself\u001b[0m\u001b[1;33m.\u001b[0m\u001b[0msignature\u001b[0m\u001b[1;33m.\u001b[0m\u001b[0mname\u001b[0m\u001b[1;33m)\u001b[0m\u001b[1;33m,\u001b[0m\u001b[1;33m\u001b[0m\u001b[1;33m\u001b[0m\u001b[0m\n\u001b[0;32m    557\u001b[0m               \u001b[0mnum_outputs\u001b[0m\u001b[1;33m=\u001b[0m\u001b[0mself\u001b[0m\u001b[1;33m.\u001b[0m\u001b[0m_num_outputs\u001b[0m\u001b[1;33m,\u001b[0m\u001b[1;33m\u001b[0m\u001b[1;33m\u001b[0m\u001b[0m\n",
      "\u001b[1;32mC:\\ProgramData\\Anaconda3\\lib\\site-packages\\tensorflow\\python\\eager\\execute.py\u001b[0m in \u001b[0;36mquick_execute\u001b[1;34m(op_name, num_outputs, inputs, attrs, ctx, name)\u001b[0m\n\u001b[0;32m     57\u001b[0m   \u001b[1;32mtry\u001b[0m\u001b[1;33m:\u001b[0m\u001b[1;33m\u001b[0m\u001b[1;33m\u001b[0m\u001b[0m\n\u001b[0;32m     58\u001b[0m     \u001b[0mctx\u001b[0m\u001b[1;33m.\u001b[0m\u001b[0mensure_initialized\u001b[0m\u001b[1;33m(\u001b[0m\u001b[1;33m)\u001b[0m\u001b[1;33m\u001b[0m\u001b[1;33m\u001b[0m\u001b[0m\n\u001b[1;32m---> 59\u001b[1;33m     tensors = pywrap_tfe.TFE_Py_Execute(ctx._handle, device_name, op_name,\n\u001b[0m\u001b[0;32m     60\u001b[0m                                         inputs, attrs, num_outputs)\n\u001b[0;32m     61\u001b[0m   \u001b[1;32mexcept\u001b[0m \u001b[0mcore\u001b[0m\u001b[1;33m.\u001b[0m\u001b[0m_NotOkStatusException\u001b[0m \u001b[1;32mas\u001b[0m \u001b[0me\u001b[0m\u001b[1;33m:\u001b[0m\u001b[1;33m\u001b[0m\u001b[1;33m\u001b[0m\u001b[0m\n",
      "\u001b[1;31mKeyboardInterrupt\u001b[0m: "
     ]
    }
   ],
   "source": [
    "model.compile(loss = keras.losses.BinaryCrossentropy(), optimizer='adam', metrics=['accuracy'])\n",
    "\n",
    "#fit the network to (for now the un-sparse matrix)\n",
    "model.fit(input_generator, validation_data=validation_generator, epochs= 64,\n",
    "          batch_size=batch_size, verbose=1, steps_per_epoch = 200,\n",
    "          validation_steps= 10)"
   ],
   "metadata": {
    "collapsed": false,
    "pycharm": {
     "name": "#%%\n",
     "is_executing": true
    }
   }
  },
  {
   "cell_type": "code",
   "execution_count": null,
   "metadata": {},
   "outputs": [],
   "source": [
    "predict_test_nn = model.predict(test_generator, batch_size=batch_size)"
   ]
  },
  {
   "cell_type": "code",
   "execution_count": null,
   "metadata": {},
   "outputs": [],
   "source": [
    "export = np.array(predict_test_nn>0.5).astype('int')\n",
    "np.savetxt(\"submission_generator.txt\", np.round(export,decimals=0), fmt='%i')"
   ]
  }
 ]
}