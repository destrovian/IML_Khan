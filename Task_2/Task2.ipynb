{
 "cells": [
  {
   "cell_type": "markdown",
   "source": [
    "# Let's see where this get us"
   ],
   "metadata": {
    "collapsed": false,
    "pycharm": {
     "name": "#%% md\n"
    }
   }
  },
  {
   "cell_type": "code",
   "execution_count": 44,
   "outputs": [],
   "source": [
    "import numpy as np\n",
    "import sklearn as skl\n",
    "import pandas as pd\n",
    "import sklearn.preprocessing\n",
    "from sklearn import linear_model\n",
    "from sklearn.impute import SimpleImputer\n",
    "from sklearn.metrics import mean_squared_error\n",
    "\n",
    "Vitals_labels = ['LABEL_RRate', 'LABEL_ABPm', 'LABEL_SpO2', 'LABEL_Heartrate']\n",
    "Test_labels = ['LABEL_BaseExcess', 'LABEL_Fibrinogen', 'LABEL_AST', 'LABEL_Alkalinephos', 'LABEL_Bilirubin_total',\n",
    "         'LABEL_Lactate', 'LABEL_TroponinI', 'LABEL_SaO2',\n",
    "         'LABEL_Bilirubin_direct', 'LABEL_EtCO2']\n",
    "\n",
    "Vitals = ['RRate', 'ABPm', 'SpO2', 'Heartrate']\n",
    "Test = ['BaseExcess', 'Fibrinogen', 'AST', 'Alkalinephos', 'Bilirubin_total',\n",
    "         'Lactate', 'TroponinI', 'SaO2',\n",
    "         'Bilirubin_direct', 'EtCO2']"
   ],
   "metadata": {
    "collapsed": false,
    "pycharm": {
     "name": "#%%\n"
    }
   }
  },
  {
   "cell_type": "markdown",
   "source": [
    "To generate the final table. Values must be binary. cutn ass mutherfocker\n",
    "use the 12 entries of heartrate to regress to the label asked. try linear first then go poly. ignore drugs for now"
   ],
   "metadata": {
    "collapsed": false,
    "pycharm": {
     "name": "#%% md\n"
    }
   }
  },
  {
   "cell_type": "markdown",
   "source": [
    "## TASK 1"
   ],
   "metadata": {
    "collapsed": false,
    "pycharm": {
     "name": "#%% md\n"
    }
   }
  },
  {
   "cell_type": "code",
   "execution_count": null,
   "outputs": [],
   "source": [
    "df = pd.read_csv(\"train_features.csv\")\n",
    "df_train= df.groupby(['pid'],sort=False).mean()\n",
    "df_train_test = df_train[Test]\n",
    "df_train_vitals=df_train[Vitals]\n",
    "df_final=pd.concat([df_train_test,df_train_vitals],axis=1)\n",
    "#df_final = df_final.fillna(0)\n",
    "#print(df_final)\n",
    "df_final = df_final.notnull().astype('int')\n",
    "#print(df_final)"
   ],
   "metadata": {
    "collapsed": false,
    "pycharm": {
     "name": "#%%\n"
    }
   }
  },
  {
   "cell_type": "markdown",
   "source": [
    "## TASK 3"
   ],
   "metadata": {
    "collapsed": false,
    "pycharm": {
     "name": "#%% md\n"
    }
   }
  },
  {
   "cell_type": "code",
   "execution_count": null,
   "outputs": [],
   "source": [
    "labels = pd.read_csv(\"train_labels.csv\")\n",
    "labels_hr = labels[[\"LABEL_Heartrate\"]].to_numpy()\n",
    "labels_spo2 = labels[[\"LABEL_SpO2\"]].to_numpy()\n",
    "labels_abpm = labels[[\"LABEL_ABPm\"]].to_numpy()\n",
    "labels_rrate = labels[[\"LABEL_RRate\"]].to_numpy()\n",
    "#scaler0 = skl.preprocessing.StandardScaler()\n",
    "#scaler0.fit(labels)\n",
    "#labels = scaler0.transform(labels)\n",
    "heartrate = df[[\"Heartrate\"]].to_numpy()\n",
    "\n",
    "heartrate = heartrate.reshape((18995,12))\n",
    "#print(heartrate[1,:])\n",
    "\n",
    "#row_mean = np.nanmean(heartrate,axis=1)\n",
    "#inds = np.where(np.isnan(heartrate))\n",
    "#heartrate[inds] = np.take(row_mean,inds[1])\n",
    "#print(heartrate[1,:])\n",
    "\n",
    "#either imputer is fucked or the data is actually missing an entire patient. \n",
    "#imp = SimpleImputer(missing_values=np.nan,strategy='mean')\n",
    "#heartrate_imp = imp.fit_transform(heartrate)\n",
    "#print(heartrate_imp[1,:])\n",
    "\n",
    "#lets find what stupid patient doesnt have a heartrate\n",
    "\n",
    "\n",
    "#cause some fuckers didnt get a measurement.\n",
    "heartrate = np.nan_to_num(heartrate,nan=0)\n",
    "\n",
    "#lets use concatenated full data set TRAIN DATA\n",
    "fit_df = df_train.fillna(0).to_numpy()\n",
    "fit_df = np.delete(fit_df,0,1) #remove patient ID\n",
    "fit_df = np.delete(fit_df,0,1) #remove time spent in ICU\n",
    "#fit_df = fit_df.reshape((18995,432))\n",
    "#fit_df = df_train.fillna(0).to_numpy()\n",
    "scaler1 = skl.preprocessing.StandardScaler()\n",
    "scaler1.fit(fit_df)\n",
    "fit_df = scaler1.transform(fit_df)\n",
    "scaler2 = skl.preprocessing.StandardScaler()\n",
    "scaler2.fit(heartrate)\n",
    "heartrate = scaler2.transform(heartrate)\n",
    "fit_df = np.concatenate((fit_df, heartrate), axis=1)\n",
    "\n",
    "#SAME FOR TEST DATA\n",
    "test_df_full = pd.read_csv(\"test_features.csv\")\n",
    "test_df = test_df_full.groupby(['pid'],sort=False).mean()\n",
    "test_df = test_df.fillna(0).to_numpy()\n",
    "test_df = np.delete(test_df,0,1)\n",
    "test_df = np.delete(test_df,0,1)\n",
    "labels_test = pd.read_csv(\"test_features.csv\")\n",
    "heartrate = test_df_full[[\"Heartrate\"]].fillna(0).to_numpy()\n",
    "heartrate = heartrate.reshape((12664,12))\n",
    "test_df = scaler1.transform(test_df)\n",
    "heartrate = scaler2.transform(heartrate)\n",
    "test_df = np.concatenate((test_df,heartrate), axis=1)"
   ],
   "metadata": {
    "collapsed": false,
    "pycharm": {
     "name": "#%%\n"
    }
   }
  },
  {
   "cell_type": "markdown",
   "source": [
    "lets try and remove some outliers from the dataset: Top Res: 8.679543614001695"
   ],
   "metadata": {
    "collapsed": false,
    "pycharm": {
     "name": "#%% md\n"
    }
   }
  },
  {
   "cell_type": "code",
   "execution_count": 47,
   "outputs": [
    {
     "name": "stdout",
     "output_type": "stream",
     "text": [
      "(16242, 46)\n"
     ]
    }
   ],
   "source": [
    "data_mean, data_std = np.mean(fit_df), np.std(fit_df)\n",
    "\n",
    "#using isolationforest\n",
    "#iso = skl.ensemble.IsolationForest(contamination=0.1)\n",
    "#yhat = iso.fit_predict(fit_df)\n",
    "\n",
    "#using localoutliers\n",
    "lof = skl.neighbors.LocalOutlierFactor(n_neighbors= 100) #try out different factors\n",
    "yhat = lof.fit_predict(fit_df)\n",
    "\n",
    "mask = yhat != -1\n",
    "fit_df, labels_hr, labels_spo2, labels_abpm, labels_rrate = fit_df[mask,:], labels_hr[mask], labels_spo2[mask], labels_abpm[mask], labels_rrate[mask]\n",
    "print(fit_df.shape)"
   ],
   "metadata": {
    "collapsed": false,
    "pycharm": {
     "name": "#%% Outlier removed\n"
    }
   }
  },
  {
   "cell_type": "code",
   "execution_count": 48,
   "outputs": [],
   "source": [
    "clf = skl.linear_model.RidgeCV(alphas=[0.01, 0.01, 0.1, 1, 10, 100, 1000, 2000,5000], cv=15)"
   ],
   "metadata": {
    "collapsed": false,
    "pycharm": {
     "name": "#%%\n"
    }
   }
  },
  {
   "cell_type": "markdown",
   "source": [
    "now let's predict some stuff :D\n",
    "poly = 18\n",
    "linearRegression = 9\n",
    "never fucking use linear svr. takes fucking forever"
   ],
   "metadata": {
    "collapsed": false
   }
  },
  {
   "cell_type": "code",
   "execution_count": 49,
   "outputs": [
    {
     "name": "stdout",
     "output_type": "stream",
     "text": [
      "8.679543614001695\n"
     ]
    }
   ],
   "source": [
    "#predict heart rate:\n",
    "clf.fit(fit_df,labels_hr)\n",
    "predict_train = clf.predict(fit_df)\n",
    "print(np.sqrt(np.mean((predict_train-labels_hr)**2)))\n",
    "predict_heartrate = clf.predict(test_df)\n",
    "\n",
    "#predict abpm:\n",
    "clf.fit(fit_df,labels_abpm)\n",
    "predict_abpm = clf.predict(test_df)\n",
    "\n",
    "#predict rrate:\n",
    "clf.fit(fit_df,labels_rrate)\n",
    "predict_rrate = clf.predict(test_df)\n",
    "\n",
    "#predict spo2:\n",
    "clf.fit(fit_df,labels_spo2)\n",
    "predict_sp02 = clf.predict(test_df)"
   ],
   "metadata": {
    "collapsed": false,
    "pycharm": {
     "name": "#%%\n"
    }
   }
  },
  {
   "cell_type": "markdown",
   "source": [
    "For some reason linear regression works the best. but i still dont think it's acurate enough"
   ],
   "metadata": {
    "collapsed": false
   }
  },
  {
   "cell_type": "code",
   "execution_count": 55,
   "outputs": [
    {
     "name": "stdout",
     "output_type": "stream",
     "text": [
      "<bound method NDFrame.head of        LABEL_RRate  LABEL_ABPm  LABEL_SpO2  LABEL_Heartrate\n",
      "0        14.333795   83.905311   99.043965        82.538233\n",
      "1        17.476799   90.386710   95.176147        99.628204\n",
      "2        18.506313   80.201684   98.027821        89.627251\n",
      "3        16.780357   74.610150   95.877794        87.101032\n",
      "4        19.143407   75.755701   96.133049        60.976440\n",
      "...            ...         ...         ...              ...\n",
      "12659    20.294856   72.905244   95.663825       104.968726\n",
      "12660    18.093650   92.022292   98.807957        71.872215\n",
      "12661    19.469431   64.821071   96.750811        83.723222\n",
      "12662    16.408261   90.412289   98.276552        98.573208\n",
      "12663    18.072408   78.384271   98.334418        87.719864\n",
      "\n",
      "[12664 rows x 4 columns]>\n",
      "[[82.53823316]\n",
      " [99.62820398]\n",
      " [89.62725121]\n",
      " ...\n",
      " [83.7232216 ]\n",
      " [98.57320826]\n",
      " [87.71986383]]\n"
     ]
    }
   ],
   "source": [
    "df_task3 = pd.DataFrame({'LABEL_RRate': predict_rrate[:,0], 'LABEL_ABPm': predict_abpm[:,0], 'LABEL_SpO2': predict_sp02[:,0],'LABEL_Heartrate': predict_heartrate[:,0]})\n",
    "print(df_task3.head)\n",
    "\n",
    "#print(fit_df)\n",
    "#print(labels-predict_train)\n",
    "#print(predict_train)\n",
    "#print(predict_heartrate)"
   ],
   "metadata": {
    "collapsed": false,
    "pycharm": {
     "name": "#%%\n"
    }
   }
  },
  {
   "cell_type": "markdown",
   "source": [
    "## Final Concatenate"
   ],
   "metadata": {
    "collapsed": false,
    "pycharm": {
     "name": "#%% md\n"
    }
   }
  },
  {
   "cell_type": "code",
   "execution_count": null,
   "outputs": [],
   "source": [
    "#final_frickin_df = pd.concat([df_task1, df_task2, df_task3], axis=1)\n",
    "#compression_opts = dict(method='zip', archive_name='result.csv')\n",
    "#final_frickin_df.to_csv('result.zip', index=True, compression=compression_opts)"
   ],
   "metadata": {
    "collapsed": false,
    "pycharm": {
     "name": "#%%\n"
    }
   }
  }
 ],
 "metadata": {
  "kernelspec": {
   "display_name": "Python 3",
   "language": "python",
   "name": "python3"
  },
  "language_info": {
   "codemirror_mode": {
    "name": "ipython",
    "version": 2
   },
   "file_extension": ".py",
   "mimetype": "text/x-python",
   "name": "python",
   "nbconvert_exporter": "python",
   "pygments_lexer": "ipython2",
   "version": "2.7.6"
  }
 },
 "nbformat": 4,
 "nbformat_minor": 0
}